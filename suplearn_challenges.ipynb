{
 "metadata": {
  "name": "",
  "signature": "sha256:a0b5c008a2516bd4b8513920fb226f0e30f1323c3bb0c0ee5e476fc1fbce1d5b"
 },
 "nbformat": 3,
 "nbformat_minor": 0,
 "worksheets": [
  {
   "cells": [
    {
     "cell_type": "heading",
     "level": 1,
     "metadata": {},
     "source": [
      "Supervised learning challenges (Frederik Durant)"
     ]
    },
    {
     "cell_type": "markdown",
     "metadata": {},
     "source": [
      "Download the congressional votes data from [here](https://archive.ics.uci.edu/ml/datasets/Congressional+Voting+Records).\n",
      "\n",
      "These are votes of U.S. House of Representatives Congressmen on 16 key issues in 1984. \n",
      "Read the description of the fields and download the data: house-votes-84.data\n",
      "\n",
      "We will try to see if we can predict the house members' party based on their votes. \n",
      "We will also use some of the general machine learning tools we learned (a bit more efficiently this time)."
     ]
    },
    {
     "cell_type": "heading",
     "level": 3,
     "metadata": {},
     "source": [
      "Challenge 1"
     ]
    },
    {
     "cell_type": "markdown",
     "metadata": {},
     "source": [
      "Load the data into a pandas dataframe. Replace 'y's with 1s, 'n's with 0s.\n",
      "\n",
      "Now, almost every representative has a ?. This represents a no vote (they were absent or some other similar reason). If we dropped all the rows that had a ?, we would throw out most of our data. Instead, we will replace ? with the best guess in the Bayesian sense: in the absence of any other information, we will say that the probability of the representative saying YES is the ratio of others that said YES over the whole votes.\n",
      "\n",
      "So, convert each ? to this probability (when yes=1 and no=0, this is the mean of the column)"
     ]
    },
    {
     "cell_type": "code",
     "collapsed": false,
     "input": [
      "import pandas as pd\n",
      "import numpy as np\n",
      "votesDF=pd.read_csv('house-votes-84.csv', sep=',', header=0)\n",
      "votesDF.head(3)"
     ],
     "language": "python",
     "metadata": {},
     "outputs": [
      {
       "html": [
        "<div style=\"max-height:1000px;max-width:1500px;overflow:auto;\">\n",
        "<table border=\"1\" class=\"dataframe\">\n",
        "  <thead>\n",
        "    <tr style=\"text-align: right;\">\n",
        "      <th></th>\n",
        "      <th>class-name</th>\n",
        "      <th>handicapped-infants</th>\n",
        "      <th>water-project-cost-sharing</th>\n",
        "      <th>adoption-of-the-budget-resolution</th>\n",
        "      <th>physician-fee-freeze</th>\n",
        "      <th>el-salvador-aid</th>\n",
        "      <th>religious-groups-in-schools</th>\n",
        "      <th>anti-satellite-test-ban</th>\n",
        "      <th>aid-to-nicaraguan-contras</th>\n",
        "      <th>mx-missile</th>\n",
        "      <th>immigration</th>\n",
        "      <th>synfuels-corporation-cutback</th>\n",
        "      <th>education-spending</th>\n",
        "      <th>superfund-right-to-sue</th>\n",
        "      <th>crime</th>\n",
        "      <th>duty-free-exports</th>\n",
        "      <th>export-administration-act-south-africa</th>\n",
        "    </tr>\n",
        "  </thead>\n",
        "  <tbody>\n",
        "    <tr>\n",
        "      <th>0</th>\n",
        "      <td> republican</td>\n",
        "      <td> n</td>\n",
        "      <td> y</td>\n",
        "      <td> n</td>\n",
        "      <td> y</td>\n",
        "      <td> y</td>\n",
        "      <td> y</td>\n",
        "      <td> n</td>\n",
        "      <td> n</td>\n",
        "      <td> n</td>\n",
        "      <td> y</td>\n",
        "      <td> ?</td>\n",
        "      <td> y</td>\n",
        "      <td> y</td>\n",
        "      <td> y</td>\n",
        "      <td> n</td>\n",
        "      <td> y</td>\n",
        "    </tr>\n",
        "    <tr>\n",
        "      <th>1</th>\n",
        "      <td> republican</td>\n",
        "      <td> n</td>\n",
        "      <td> y</td>\n",
        "      <td> n</td>\n",
        "      <td> y</td>\n",
        "      <td> y</td>\n",
        "      <td> y</td>\n",
        "      <td> n</td>\n",
        "      <td> n</td>\n",
        "      <td> n</td>\n",
        "      <td> n</td>\n",
        "      <td> n</td>\n",
        "      <td> y</td>\n",
        "      <td> y</td>\n",
        "      <td> y</td>\n",
        "      <td> n</td>\n",
        "      <td> ?</td>\n",
        "    </tr>\n",
        "    <tr>\n",
        "      <th>2</th>\n",
        "      <td>   democrat</td>\n",
        "      <td> ?</td>\n",
        "      <td> y</td>\n",
        "      <td> y</td>\n",
        "      <td> ?</td>\n",
        "      <td> y</td>\n",
        "      <td> y</td>\n",
        "      <td> n</td>\n",
        "      <td> n</td>\n",
        "      <td> n</td>\n",
        "      <td> n</td>\n",
        "      <td> y</td>\n",
        "      <td> n</td>\n",
        "      <td> y</td>\n",
        "      <td> y</td>\n",
        "      <td> n</td>\n",
        "      <td> n</td>\n",
        "    </tr>\n",
        "  </tbody>\n",
        "</table>\n",
        "</div>"
       ],
       "metadata": {},
       "output_type": "pyout",
       "prompt_number": 1,
       "text": [
        "   class-name handicapped-infants water-project-cost-sharing  \\\n",
        "0  republican                   n                          y   \n",
        "1  republican                   n                          y   \n",
        "2    democrat                   ?                          y   \n",
        "\n",
        "  adoption-of-the-budget-resolution physician-fee-freeze el-salvador-aid  \\\n",
        "0                                 n                    y               y   \n",
        "1                                 n                    y               y   \n",
        "2                                 y                    ?               y   \n",
        "\n",
        "  religious-groups-in-schools anti-satellite-test-ban  \\\n",
        "0                           y                       n   \n",
        "1                           y                       n   \n",
        "2                           y                       n   \n",
        "\n",
        "  aid-to-nicaraguan-contras mx-missile immigration  \\\n",
        "0                         n          n           y   \n",
        "1                         n          n           n   \n",
        "2                         n          n           n   \n",
        "\n",
        "  synfuels-corporation-cutback education-spending superfund-right-to-sue  \\\n",
        "0                            ?                  y                      y   \n",
        "1                            n                  y                      y   \n",
        "2                            y                  n                      y   \n",
        "\n",
        "  crime duty-free-exports export-administration-act-south-africa  \n",
        "0     y                 n                                      y  \n",
        "1     y                 n                                      ?  \n",
        "2     y                 n                                      n  "
       ]
      }
     ],
     "prompt_number": 1
    },
    {
     "cell_type": "code",
     "collapsed": false,
     "input": [
      "votesDF2 = votesDF.replace(to_replace=['y','n','?'],value=[1,0,np.nan])\n",
      "votesDF2.head(3)"
     ],
     "language": "python",
     "metadata": {},
     "outputs": [
      {
       "html": [
        "<div style=\"max-height:1000px;max-width:1500px;overflow:auto;\">\n",
        "<table border=\"1\" class=\"dataframe\">\n",
        "  <thead>\n",
        "    <tr style=\"text-align: right;\">\n",
        "      <th></th>\n",
        "      <th>class-name</th>\n",
        "      <th>handicapped-infants</th>\n",
        "      <th>water-project-cost-sharing</th>\n",
        "      <th>adoption-of-the-budget-resolution</th>\n",
        "      <th>physician-fee-freeze</th>\n",
        "      <th>el-salvador-aid</th>\n",
        "      <th>religious-groups-in-schools</th>\n",
        "      <th>anti-satellite-test-ban</th>\n",
        "      <th>aid-to-nicaraguan-contras</th>\n",
        "      <th>mx-missile</th>\n",
        "      <th>immigration</th>\n",
        "      <th>synfuels-corporation-cutback</th>\n",
        "      <th>education-spending</th>\n",
        "      <th>superfund-right-to-sue</th>\n",
        "      <th>crime</th>\n",
        "      <th>duty-free-exports</th>\n",
        "      <th>export-administration-act-south-africa</th>\n",
        "    </tr>\n",
        "  </thead>\n",
        "  <tbody>\n",
        "    <tr>\n",
        "      <th>0</th>\n",
        "      <td> republican</td>\n",
        "      <td>  0</td>\n",
        "      <td> 1</td>\n",
        "      <td> 0</td>\n",
        "      <td>  1</td>\n",
        "      <td> 1</td>\n",
        "      <td> 1</td>\n",
        "      <td> 0</td>\n",
        "      <td> 0</td>\n",
        "      <td> 0</td>\n",
        "      <td> 1</td>\n",
        "      <td>NaN</td>\n",
        "      <td> 1</td>\n",
        "      <td> 1</td>\n",
        "      <td> 1</td>\n",
        "      <td> 0</td>\n",
        "      <td>  1</td>\n",
        "    </tr>\n",
        "    <tr>\n",
        "      <th>1</th>\n",
        "      <td> republican</td>\n",
        "      <td>  0</td>\n",
        "      <td> 1</td>\n",
        "      <td> 0</td>\n",
        "      <td>  1</td>\n",
        "      <td> 1</td>\n",
        "      <td> 1</td>\n",
        "      <td> 0</td>\n",
        "      <td> 0</td>\n",
        "      <td> 0</td>\n",
        "      <td> 0</td>\n",
        "      <td>  0</td>\n",
        "      <td> 1</td>\n",
        "      <td> 1</td>\n",
        "      <td> 1</td>\n",
        "      <td> 0</td>\n",
        "      <td>NaN</td>\n",
        "    </tr>\n",
        "    <tr>\n",
        "      <th>2</th>\n",
        "      <td>   democrat</td>\n",
        "      <td>NaN</td>\n",
        "      <td> 1</td>\n",
        "      <td> 1</td>\n",
        "      <td>NaN</td>\n",
        "      <td> 1</td>\n",
        "      <td> 1</td>\n",
        "      <td> 0</td>\n",
        "      <td> 0</td>\n",
        "      <td> 0</td>\n",
        "      <td> 0</td>\n",
        "      <td>  1</td>\n",
        "      <td> 0</td>\n",
        "      <td> 1</td>\n",
        "      <td> 1</td>\n",
        "      <td> 0</td>\n",
        "      <td>  0</td>\n",
        "    </tr>\n",
        "  </tbody>\n",
        "</table>\n",
        "</div>"
       ],
       "metadata": {},
       "output_type": "pyout",
       "prompt_number": 2,
       "text": [
        "   class-name  handicapped-infants  water-project-cost-sharing  \\\n",
        "0  republican                    0                           1   \n",
        "1  republican                    0                           1   \n",
        "2    democrat                  NaN                           1   \n",
        "\n",
        "   adoption-of-the-budget-resolution  physician-fee-freeze  el-salvador-aid  \\\n",
        "0                                  0                     1                1   \n",
        "1                                  0                     1                1   \n",
        "2                                  1                   NaN                1   \n",
        "\n",
        "   religious-groups-in-schools  anti-satellite-test-ban  \\\n",
        "0                            1                        0   \n",
        "1                            1                        0   \n",
        "2                            1                        0   \n",
        "\n",
        "   aid-to-nicaraguan-contras  mx-missile  immigration  \\\n",
        "0                          0           0            1   \n",
        "1                          0           0            0   \n",
        "2                          0           0            0   \n",
        "\n",
        "   synfuels-corporation-cutback  education-spending  superfund-right-to-sue  \\\n",
        "0                           NaN                   1                       1   \n",
        "1                             0                   1                       1   \n",
        "2                             1                   0                       1   \n",
        "\n",
        "   crime  duty-free-exports  export-administration-act-south-africa  \n",
        "0      1                  0                                       1  \n",
        "1      1                  0                                     NaN  \n",
        "2      1                  0                                       0  "
       ]
      }
     ],
     "prompt_number": 2
    },
    {
     "cell_type": "code",
     "collapsed": false,
     "input": [
      "votesDF3 = votesDF2.replace(to_replace=np.nan,value=votesDF2.mean(axis=0))\n",
      "votesDF3.head(3)"
     ],
     "language": "python",
     "metadata": {},
     "outputs": [
      {
       "html": [
        "<div style=\"max-height:1000px;max-width:1500px;overflow:auto;\">\n",
        "<table border=\"1\" class=\"dataframe\">\n",
        "  <thead>\n",
        "    <tr style=\"text-align: right;\">\n",
        "      <th></th>\n",
        "      <th>class-name</th>\n",
        "      <th>handicapped-infants</th>\n",
        "      <th>water-project-cost-sharing</th>\n",
        "      <th>adoption-of-the-budget-resolution</th>\n",
        "      <th>physician-fee-freeze</th>\n",
        "      <th>el-salvador-aid</th>\n",
        "      <th>religious-groups-in-schools</th>\n",
        "      <th>anti-satellite-test-ban</th>\n",
        "      <th>aid-to-nicaraguan-contras</th>\n",
        "      <th>mx-missile</th>\n",
        "      <th>immigration</th>\n",
        "      <th>synfuels-corporation-cutback</th>\n",
        "      <th>education-spending</th>\n",
        "      <th>superfund-right-to-sue</th>\n",
        "      <th>crime</th>\n",
        "      <th>duty-free-exports</th>\n",
        "      <th>export-administration-act-south-africa</th>\n",
        "    </tr>\n",
        "  </thead>\n",
        "  <tbody>\n",
        "    <tr>\n",
        "      <th>0</th>\n",
        "      <td> republican</td>\n",
        "      <td> 0.00000</td>\n",
        "      <td> 1</td>\n",
        "      <td> 0</td>\n",
        "      <td> 1.000000</td>\n",
        "      <td> 1</td>\n",
        "      <td> 1</td>\n",
        "      <td> 0</td>\n",
        "      <td> 0</td>\n",
        "      <td> 0</td>\n",
        "      <td> 1</td>\n",
        "      <td> 0.362319</td>\n",
        "      <td> 1</td>\n",
        "      <td> 1</td>\n",
        "      <td> 1</td>\n",
        "      <td> 0</td>\n",
        "      <td> 1.000000</td>\n",
        "    </tr>\n",
        "    <tr>\n",
        "      <th>1</th>\n",
        "      <td> republican</td>\n",
        "      <td> 0.00000</td>\n",
        "      <td> 1</td>\n",
        "      <td> 0</td>\n",
        "      <td> 1.000000</td>\n",
        "      <td> 1</td>\n",
        "      <td> 1</td>\n",
        "      <td> 0</td>\n",
        "      <td> 0</td>\n",
        "      <td> 0</td>\n",
        "      <td> 0</td>\n",
        "      <td> 0.000000</td>\n",
        "      <td> 1</td>\n",
        "      <td> 1</td>\n",
        "      <td> 1</td>\n",
        "      <td> 0</td>\n",
        "      <td> 0.812689</td>\n",
        "    </tr>\n",
        "    <tr>\n",
        "      <th>2</th>\n",
        "      <td>   democrat</td>\n",
        "      <td> 0.44208</td>\n",
        "      <td> 1</td>\n",
        "      <td> 1</td>\n",
        "      <td> 0.417453</td>\n",
        "      <td> 1</td>\n",
        "      <td> 1</td>\n",
        "      <td> 0</td>\n",
        "      <td> 0</td>\n",
        "      <td> 0</td>\n",
        "      <td> 0</td>\n",
        "      <td> 1.000000</td>\n",
        "      <td> 0</td>\n",
        "      <td> 1</td>\n",
        "      <td> 1</td>\n",
        "      <td> 0</td>\n",
        "      <td> 0.000000</td>\n",
        "    </tr>\n",
        "  </tbody>\n",
        "</table>\n",
        "</div>"
       ],
       "metadata": {},
       "output_type": "pyout",
       "prompt_number": 3,
       "text": [
        "   class-name  handicapped-infants  water-project-cost-sharing  \\\n",
        "0  republican              0.00000                           1   \n",
        "1  republican              0.00000                           1   \n",
        "2    democrat              0.44208                           1   \n",
        "\n",
        "   adoption-of-the-budget-resolution  physician-fee-freeze  el-salvador-aid  \\\n",
        "0                                  0              1.000000                1   \n",
        "1                                  0              1.000000                1   \n",
        "2                                  1              0.417453                1   \n",
        "\n",
        "   religious-groups-in-schools  anti-satellite-test-ban  \\\n",
        "0                            1                        0   \n",
        "1                            1                        0   \n",
        "2                            1                        0   \n",
        "\n",
        "   aid-to-nicaraguan-contras  mx-missile  immigration  \\\n",
        "0                          0           0            1   \n",
        "1                          0           0            0   \n",
        "2                          0           0            0   \n",
        "\n",
        "   synfuels-corporation-cutback  education-spending  superfund-right-to-sue  \\\n",
        "0                      0.362319                   1                       1   \n",
        "1                      0.000000                   1                       1   \n",
        "2                      1.000000                   0                       1   \n",
        "\n",
        "   crime  duty-free-exports  export-administration-act-south-africa  \n",
        "0      1                  0                                1.000000  \n",
        "1      1                  0                                0.812689  \n",
        "2      1                  0                                0.000000  "
       ]
      }
     ],
     "prompt_number": 3
    },
    {
     "cell_type": "heading",
     "level": 3,
     "metadata": {},
     "source": [
      "Challenge 2"
     ]
    },
    {
     "cell_type": "markdown",
     "metadata": {},
     "source": [
      "Split the data into a test and training set. But this time, use this function:"
     ]
    },
    {
     "cell_type": "code",
     "collapsed": false,
     "input": [
      "from sklearn.cross_validation import train_test_split\n",
      "X_train, X_test, y_train, y_test = train_test_split(votesDF3[votesDF3.columns[1:17]], votesDF3['class-name'], test_size=0.2, random_state=0)\n",
      "print \"X_train (%d examples) = \" % len(X_train), X_train\n",
      "print \"X_test (%d examples) = \" % len(X_test), X_test\n",
      "print \"y_train (%d labels) = \" % len(y_train), y_train\n",
      "print \"y_test (%d labels) = \" % len(y_test), y_test"
     ],
     "language": "python",
     "metadata": {},
     "outputs": [
      {
       "output_type": "stream",
       "stream": "stdout",
       "text": [
        "X_train (348 examples) =  [[ 1.          1.          1.         ...,  1.          1.          1.        ]\n",
        " [ 0.          1.          0.         ...,  1.          0.          1.        ]\n",
        " [ 0.          1.          1.         ...,  1.          1.          1.        ]\n",
        " ..., \n",
        " [ 1.          1.          1.         ...,  1.          0.          1.        ]\n",
        " [ 1.          0.          1.         ...,  0.          0.          0.81268882]\n",
        " [ 0.          1.          1.         ...,  0.          1.          1.        ]]\n",
        "X_test (87 examples) =  [[ 0.          0.          1.         ...,  1.          0.          1.        ]\n",
        " [ 1.          0.          1.         ...,  0.          1.          0.81268882]\n",
        " [ 1.          1.          1.         ...,  1.          0.          0.81268882]\n",
        " ..., \n",
        " [ 1.          0.          1.         ...,  0.          1.          1.        ]\n",
        " [ 1.          1.          1.         ...,  0.          1.          0.81268882]\n",
        " [ 1.          0.          1.         ...,  0.          1.          0.81268882]]\n",
        "y_train (348 labels) =  ['democrat' 'republican' 'democrat' 'democrat' 'democrat' 'republican'\n",
        " 'democrat' 'democrat' 'republican' 'republican' 'republican' 'republican'\n",
        " 'democrat' 'democrat' 'democrat' 'democrat' 'democrat' 'democrat'\n",
        " 'republican' 'democrat' 'republican' 'republican' 'democrat' 'democrat'\n",
        " 'republican' 'republican' 'democrat' 'democrat' 'republican' 'republican'\n",
        " 'democrat' 'democrat' 'democrat' 'republican' 'republican' 'democrat'\n",
        " 'democrat' 'democrat' 'democrat' 'democrat' 'democrat' 'republican'\n",
        " 'democrat' 'republican' 'republican' 'democrat' 'republican' 'republican'\n",
        " 'republican' 'democrat' 'republican' 'democrat' 'democrat' 'republican'\n",
        " 'republican' 'democrat' 'republican' 'democrat' 'republican' 'democrat'\n",
        " 'republican' 'democrat' 'republican' 'democrat' 'democrat' 'republican'\n",
        " 'republican' 'democrat' 'republican' 'republican' 'democrat' 'republican'\n",
        " 'democrat' 'republican' 'democrat' 'republican' 'democrat' 'republican'\n",
        " 'republican' 'democrat' 'republican' 'democrat' 'democrat' 'republican'\n",
        " 'democrat' 'democrat' 'democrat' 'democrat' 'republican' 'democrat'\n",
        " 'democrat' 'democrat' 'republican' 'republican' 'republican' 'democrat'\n",
        " 'republican' 'democrat' 'republican' 'republican' 'republican' 'democrat'\n",
        " 'democrat' 'republican' 'democrat' 'democrat' 'republican' 'republican'\n",
        " 'democrat' 'democrat' 'republican' 'democrat' 'democrat' 'democrat'\n",
        " 'democrat' 'democrat' 'democrat' 'republican' 'democrat' 'democrat'\n",
        " 'republican' 'democrat' 'democrat' 'democrat' 'democrat' 'democrat'\n",
        " 'democrat' 'democrat' 'democrat' 'republican' 'republican' 'democrat'\n",
        " 'republican' 'democrat' 'democrat' 'democrat' 'democrat' 'republican'\n",
        " 'republican' 'republican' 'democrat' 'democrat' 'democrat' 'democrat'\n",
        " 'republican' 'republican' 'republican' 'democrat' 'democrat' 'democrat'\n",
        " 'republican' 'republican' 'republican' 'republican' 'democrat' 'democrat'\n",
        " 'republican' 'democrat' 'republican' 'democrat' 'democrat' 'democrat'\n",
        " 'democrat' 'democrat' 'republican' 'democrat' 'democrat' 'democrat'\n",
        " 'republican' 'republican' 'democrat' 'democrat' 'democrat' 'republican'\n",
        " 'republican' 'democrat' 'democrat' 'democrat' 'democrat' 'republican'\n",
        " 'democrat' 'republican' 'republican' 'republican' 'democrat' 'democrat'\n",
        " 'democrat' 'democrat' 'republican' 'democrat' 'democrat' 'democrat'\n",
        " 'democrat' 'democrat' 'republican' 'democrat' 'republican' 'democrat'\n",
        " 'democrat' 'democrat' 'democrat' 'democrat' 'democrat' 'democrat'\n",
        " 'republican' 'democrat' 'democrat' 'democrat' 'democrat' 'democrat'\n",
        " 'republican' 'democrat' 'democrat' 'republican' 'democrat' 'democrat'\n",
        " 'democrat' 'democrat' 'republican' 'democrat' 'republican' 'republican'\n",
        " 'republican' 'republican' 'republican' 'democrat' 'democrat' 'democrat'\n",
        " 'democrat' 'republican' 'republican' 'democrat' 'republican' 'democrat'\n",
        " 'democrat' 'republican' 'democrat' 'democrat' 'democrat' 'democrat'\n",
        " 'republican' 'democrat' 'democrat' 'democrat' 'republican' 'democrat'\n",
        " 'democrat' 'republican' 'democrat' 'republican' 'democrat' 'democrat'\n",
        " 'democrat' 'democrat' 'republican' 'democrat' 'democrat' 'republican'\n",
        " 'republican' 'democrat' 'republican' 'democrat' 'democrat' 'democrat'\n",
        " 'democrat' 'democrat' 'republican' 'democrat' 'republican' 'democrat'\n",
        " 'republican' 'republican' 'republican' 'republican' 'democrat'\n",
        " 'republican' 'republican' 'republican' 'democrat' 'democrat' 'republican'\n",
        " 'democrat' 'republican' 'democrat' 'democrat' 'democrat' 'republican'\n",
        " 'republican' 'democrat' 'republican' 'republican' 'republican' 'democrat'\n",
        " 'democrat' 'republican' 'democrat' 'democrat' 'republican' 'democrat'\n",
        " 'democrat' 'democrat' 'democrat' 'democrat' 'democrat' 'democrat'\n",
        " 'democrat' 'democrat' 'democrat' 'democrat' 'democrat' 'republican'\n",
        " 'democrat' 'republican' 'democrat' 'republican' 'republican' 'democrat'\n",
        " 'democrat' 'republican' 'democrat' 'democrat' 'democrat' 'democrat'\n",
        " 'democrat' 'democrat' 'democrat' 'democrat' 'democrat' 'democrat'\n",
        " 'democrat' 'republican' 'democrat' 'democrat' 'democrat' 'republican'\n",
        " 'democrat' 'republican' 'republican' 'republican' 'democrat' 'republican'\n",
        " 'republican' 'republican' 'democrat' 'democrat' 'republican' 'democrat'\n",
        " 'democrat']\n",
        "y_test (87 labels) =  ['democrat' 'democrat' 'democrat' 'republican' 'democrat' 'democrat'\n",
        " 'democrat' 'republican' 'republican' 'republican' 'republican' 'democrat'\n",
        " 'democrat' 'democrat' 'republican' 'republican' 'republican' 'democrat'\n",
        " 'democrat' 'republican' 'democrat' 'democrat' 'republican' 'democrat'\n",
        " 'democrat' 'democrat' 'republican' 'democrat' 'republican' 'democrat'\n",
        " 'republican' 'democrat' 'democrat' 'democrat' 'republican' 'democrat'\n",
        " 'republican' 'democrat' 'democrat' 'democrat' 'republican' 'democrat'\n",
        " 'democrat' 'republican' 'republican' 'republican' 'democrat' 'democrat'\n",
        " 'republican' 'democrat' 'republican' 'democrat' 'democrat' 'democrat'\n",
        " 'republican' 'democrat' 'democrat' 'democrat' 'democrat' 'republican'\n",
        " 'democrat' 'democrat' 'republican' 'democrat' 'democrat' 'democrat'\n",
        " 'republican' 'democrat' 'republican' 'republican' 'republican' 'democrat'\n",
        " 'republican' 'republican' 'republican' 'republican' 'democrat'\n",
        " 'republican' 'democrat' 'democrat' 'republican' 'republican' 'democrat'\n",
        " 'democrat' 'democrat' 'democrat' 'democrat']\n"
       ]
      }
     ],
     "prompt_number": 4
    },
    {
     "cell_type": "heading",
     "level": 3,
     "metadata": {},
     "source": [
      "Challenge 3"
     ]
    },
    {
     "cell_type": "markdown",
     "metadata": {},
     "source": [
      "Using scikit.learn's KNN algorithm, train a model that predicts the party (republican/democrat)\n",
      "\n",
      "Try it with a lot of different k values (number of neighbors), from 1 to 20, and on the test set calculate the accuracy (number of correct predictions / number of all predictions) for each k\n",
      "\n",
      "Which k value gives the highest accuracy?"
     ]
    },
    {
     "cell_type": "code",
     "collapsed": false,
     "input": [
      "%matplotlib inline\n",
      "from sklearn.neighbors import KNeighborsClassifier\n",
      "from sklearn.metrics import accuracy_score\n",
      "from matplotlib import pyplot as plt\n",
      "\n",
      "kValues = [x+1 for x in range(20)]\n",
      "\n",
      "knnAccuracies = ['N/A']\n",
      "\n",
      "for k in kValues:\n",
      "    knn = KNeighborsClassifier(n_neighbors=k).fit(X_train, y_train)\n",
      "    distances, indices = knn.kneighbors(X_test)\n",
      "    predicted = [y_train[i][0] for i in indices]\n",
      "    knnAccuracies.append(accuracy_score(y_true=y_test, y_pred=predicted))\n",
      "\n",
      "print \"knnAccuracies\", knnAccuracies\n",
      "\n",
      "plt.plot(kValues,knnAccuracies[1:])\u001c",
      "\n",
      "plt.title(\"Classification accuracy with KNN Nearest Neighbors\\nfor varying K\")\n",
      "plt.xlabel(\"K\")\n",
      "plt.ylabel(\"Accuracy\")\n",
      "plt.show()"
     ],
     "language": "python",
     "metadata": {},
     "outputs": [
      {
       "output_type": "stream",
       "stream": "stdout",
       "text": [
        "knnAccuracies ['N/A', 0.90804597701149425, 0.89655172413793105, 0.90804597701149425, 0.90804597701149425, 0.90804597701149425, 0.90804597701149425, 0.91954022988505746, 0.90804597701149425, 0.91954022988505746, 0.91954022988505746, 0.90804597701149425, 0.90804597701149425, 0.89655172413793105, 0.90804597701149425, 0.91954022988505746, 0.91954022988505746, 0.90804597701149425, 0.90804597701149425, 0.89655172413793105, 0.91954022988505746]\n"
       ]
      },
      {
       "metadata": {},
       "output_type": "display_data",
       "png": "[encoded data removed]",
       "text": [
        "<matplotlib.figure.Figure at 0x109e50850>"
       ]
      }
     ],
     "prompt_number": 5
    },
    {
     "cell_type": "markdown",
     "metadata": {},
     "source": [
      "Accuracy goes up and down, as K gets bigger. The best K values for this given training and test set are 7, 9, 10, 14, 15 and 20"
     ]
    },
    {
     "cell_type": "heading",
     "level": 3,
     "metadata": {},
     "source": [
      "Challenge 4"
     ]
    },
    {
     "cell_type": "markdown",
     "metadata": {},
     "source": [
      "Make a similar model but with LogisticRegression instead, calculate test accuracy."
     ]
    },
    {
     "cell_type": "code",
     "collapsed": false,
     "input": [
      "from sklearn.linear_model import LogisticRegression\n",
      "from math import pow, log10\n",
      "\n",
      "cValues = [pow(10,(x-10)) for x in range(20)]\n",
      "print \"cValues = \", cValues \n",
      "\n",
      "# selects weights inversely proportional to class frequencies in the training set\n",
      "# See http://scikit-learn.org/stable/modules/generated/sklearn.linear_model.LogisticRegression.html\n",
      "#classWeight = 'auto'\n",
      "classWeight = None\n",
      "\n",
      "logresAccuracies = []\n",
      "for c in cValues:\n",
      "    logres = LogisticRegression(C=c,class_weight=classWeight).fit(X_train, y_train)\n",
      "    predicted = logres.predict(X_test)\n",
      "    logresAccuracies.append(accuracy_score(y_true=y_test, y_pred=predicted))\n",
      "\n",
      "print \"logresAccuracies = \", logresAccuracies\n",
      "\n",
      "plt.plot([log10(c) for c in cValues],logresAccuracies)\u001c",
      "\n",
      "plt.title(\"Classification accuracy with Logistic Regression\\nfor varying C values (influencing lambda)\")\n",
      "plt.xlabel(\"log10(C)\")\n",
      "plt.ylabel(\"Accuracy\")\n",
      "plt.show()"
     ],
     "language": "python",
     "metadata": {},
     "outputs": [
      {
       "output_type": "stream",
       "stream": "stdout",
       "text": [
        "cValues =  [1e-10, 1e-09, 1e-08, 1e-07, 1e-06, 1e-05, 0.0001, 0.001, 0.01, 0.1, 1.0, 10.0, 100.0, 1000.0, 10000.0, 100000.0, 1000000.0, 10000000.0, 100000000.0, 1000000000.0]\n",
        "logresAccuracies =  [0.86206896551724133, 0.86206896551724133, 0.86206896551724133, 0.86206896551724133, 0.86206896551724133, 0.86206896551724133, 0.87356321839080464, 0.87356321839080464, 0.87356321839080464, 0.94252873563218387, 0.97701149425287359, 0.95402298850574707, 0.95402298850574707, 0.94252873563218387, 0.94252873563218387, 0.94252873563218387, 0.94252873563218387, 0.94252873563218387, 0.94252873563218387, 0.94252873563218387]\n"
       ]
      },
      {
       "metadata": {},
       "output_type": "display_data",
       "png": "[encoded data removed]",
       "text": [
        "<matplotlib.figure.Figure at 0x10a4b0c50>"
       ]
      }
     ],
     "prompt_number": 6
    },
    {
     "cell_type": "heading",
     "level": 3,
     "metadata": {},
     "source": [
      "Challenge 5"
     ]
    },
    {
     "cell_type": "markdown",
     "metadata": {},
     "source": [
      "Make a bar graph of democrats and republicans. How many of each are there?\n",
      "\n",
      "Make a very simple predictor that predicts 'democrat' for every incoming example. \n",
      "(Just make a function that takes in an X --an array or matrix with input examples--, and returns an array of the same length as X, where each value is 'democrat'. For example, if X is three rows, your function should return ['democrat','democrat','democrat']) Make a y_predicted vector using this and measure its accuracy.\n",
      "\n",
      "Do the same with predicting 'republican' all the time and measure its accuracy."
     ]
    },
    {
     "cell_type": "code",
     "collapsed": false,
     "input": [
      "democrats = [c for c in votesDF3['class-name'] if c == 'democrat']\n",
      "republicans = [c for c in votesDF3['class-name'] if c == 'republican']\n",
      "\n",
      "nrDemocrats = (len(democrats))\n",
      "nrRepublicans = (len(republicans))\n",
      "\n",
      "fig, ax = plt.subplots()\n",
      "\n",
      "ind = np.arange(1)\n",
      "width = 0.1       # the width of the bars: can also be len(x) sequence\n",
      "\n",
      "p1 = plt.bar(ind, nrDemocrats, color='b', label=\"Democrats\")\n",
      "p2 = plt.bar(ind, nrRepublicans, color='r', label=\"Republicans\")\n",
      "\n",
      "plt.ylabel('# training examples with label')\n",
      "plt.title('Training examples per class')\n",
      "plt.legend()\n",
      "\n",
      "plt.xticks(ind + width)\n",
      "\n",
      "plt.show()"
     ],
     "language": "python",
     "metadata": {},
     "outputs": [
      {
       "metadata": {},
       "output_type": "display_data",
       "png": "[encoded data removed]",
       "text": [
        "<matplotlib.figure.Figure at 0x1095f9990>"
       ]
      }
     ],
     "prompt_number": 7
    },
    {
     "cell_type": "code",
     "collapsed": false,
     "input": [
      "def constantPredictor(inputClass, prediction):\n",
      "    return [prediction for x in inputClass]\n",
      "\n",
      "baselineAccuracies = []\n",
      "predicted = constantPredictor(X_test,'democrat')\n",
      "baselineAccuracies.append(accuracy_score(y_true=y_test, y_pred=predicted))\n",
      "predicted = constantPredictor(X_test,'republican')\n",
      "baselineAccuracies.append(accuracy_score(y_true=y_test, y_pred=predicted))\n",
      "\n",
      "plt.plot([0,1],baselineAccuracies)\u001c",
      "\n",
      "plt.title(\"Baseline classification accuracies with constant predictor\")\n",
      "plt.xlabel(\"Constant Class\")\n",
      "plt.ylabel(\"Accuracy\")\n",
      "plt.show()"
     ],
     "language": "python",
     "metadata": {},
     "outputs": [
      {
       "metadata": {},
       "output_type": "display_data",
       "png": "[encoded data removed]",
       "text": [
        "<matplotlib.figure.Figure at 0x1095f92d0>"
       ]
      }
     ],
     "prompt_number": 8
    },
    {
     "cell_type": "heading",
     "level": 3,
     "metadata": {},
     "source": [
      "Challenge 6"
     ]
    },
    {
     "cell_type": "markdown",
     "metadata": {},
     "source": [
      "Plot the accuracies as a function of k. Since k only matters for KNN, your logistic regression accuracy, 'democrat' predictor accuracy and 'republican' predictor accuracy will stay the same over all k, so each of these three will be a horizontal line. But the KNN accuracy will change with k."
     ]
    },
    {
     "cell_type": "code",
     "collapsed": false,
     "input": [
      "plt.plot(kValues,knnAccuracies[1:],color='blue',label='KNN')\n",
      "plt.plot(kValues,[baselineAccuracies[0] for k in kValues],color='red',label='constant Democrat')\n",
      "plt.plot(kValues,[baselineAccuracies[1] for k in kValues],color='magenta',label='constant Republican')\n",
      "plt.plot(kValues,[logresAccuracies[10] for k in kValues],color='green',label='logistic regression w/ best C value')\n",
      "plt.title(\"Classification accuracy with KNN Nearest Neighbors\\nfor varying K\")\n",
      "plt.xlabel(\"K\")\n",
      "plt.ylabel(\"Accuracy\")\n",
      "plt.legend(loc=3)\n",
      "plt.show()"
     ],
     "language": "python",
     "metadata": {},
     "outputs": [
      {
       "metadata": {},
       "output_type": "display_data",
       "png": "[encoded data removed]",
       "text": [
        "<matplotlib.figure.Figure at 0x10a6af650>"
       ]
      }
     ],
     "prompt_number": 9
    },
    {
     "cell_type": "heading",
     "level": 3,
     "metadata": {},
     "source": [
      "Challenge 7"
     ]
    },
    {
     "cell_type": "markdown",
     "metadata": {},
     "source": [
      "Plot a learning curve for the logistic regression model. But instead of going through the painstaking steps of doing it yourself, use this function:\n",
      "\n",
      "from sklearn.learning_curve import learning_curve\n",
      "\n",
      "This will give you the m, training errors and testing errors. All you need to do is plot them. You don't even need to give it separate training/test sets. It will do crossvalidation all by itself. Easy, isn't it? : )\n",
      "\n",
      "Remember, since it does cross-validation, it doesn't have a single training error or test error per m value. Instead, it has one for each fold (separate partition) of the cross validation. A good idea is to take the mean of these errors from different folds. This gives you a meaningful single number per m. What I mean is that doing something like:\n",
      "\n",
      "train_cv_err = np.mean(train_err,axis=1)                                                                                                                                                           \n",
      "test_cv_err = np.mean(ts_err,axis=1)\n",
      "\n",
      "before plotting m vs train_cv_err and m vs test_cv_err, where train_err and test_err are the vectors returned by the learning curve function. The np.mean(...., axis=1) means take the mean along axis 1 (axis 1 is the columns axis-- for each row, you have a bunch of columns, each corresponding to a cross validation fold, you are averaging these columns for each row).\n",
      "\n",
      "Draw the learning curve for KNN with the best k value as well."
     ]
    },
    {
     "cell_type": "code",
     "collapsed": false,
     "input": [
      "# Inspired by http://scikit-learn.org/stable/auto_examples/plot_learning_curve.html#example-plot-learning-curve-py\n",
      "from sklearn.learning_curve import learning_curve\n",
      "\n",
      "X_values = votesDF3[votesDF3.columns[1:17]]\n",
      "y_values = votesDF3['class-name']\n",
      "\n",
      "estimator = LogisticRegression()\n",
      "nrCrossValidationFolds = 10\n",
      "\n",
      "#http://docs.scipy.org/doc/numpy/reference/generated/numpy.linspace.html\n",
      "nrSplits = 10\n",
      "trainSplits = np.linspace(.1, 1.0, nrSplits)\n",
      "\n",
      "train_sizes, train_errors, test_errors = learning_curve(estimator, X_values, y_values, cv=nrCrossValidationFolds, n_jobs=1, train_sizes=trainSplits)\n",
      "\n",
      "# List of nrSplits *absolute* training sizes\n",
      "print \"total training set size = \", len(X_train)\n",
      "print \"train_sizes = \", train_sizes\n",
      "\n",
      "# 2-dimensional array (nrSplits x nrCrossValidationFolds)\n",
      "#print \"train_errors = \", train_errors\n",
      "\n",
      "# 2-dimensional array (nrSplits x nrCrossValidationFolds)\n",
      "#print \"test_errors = \", test_errors\n",
      "\n",
      "train_cv_mean_err = np.mean(train_errors,axis=1)\n",
      "train_cv_std_err = np.std(train_errors,axis=1)\n",
      "test_cv_mean_err = np.mean(test_errors,axis=1)\n",
      "test_cv_std_err = np.std(test_errors,axis=1)\n",
      "\n",
      "# 1-dimensional arrays (nrSplits);\n",
      "# the other dimension (nrCrossValidationFolds) has been averaged away\n",
      "print \"train_cv_mean_err = \", train_cv_mean_err\n",
      "print \"train_cv_std_err = \", train_cv_std_err\n",
      "print \"test_cv_mean_err = \", test_cv_mean_err\n",
      "print \"test_cv_std_err = \", test_cv_std_err\n",
      "\n",
      "plt.figure()\n",
      "plt.title(\"Learning curve for logistic regression model\")\n",
      "plt.xlabel(\"Number of training examples\")\n",
      "plt.ylabel(\"Accuracy\")\n",
      "\n",
      "plt.grid()\n",
      "# Draw the area indication standard error around the mean\n",
      "plt.fill_between(train_sizes, train_cv_mean_err - train_cv_std_err,\n",
      "                 train_cv_mean_err + train_cv_std_err, alpha=0.1,\n",
      "                 color=\"r\")\n",
      "plt.fill_between(train_sizes, test_cv_mean_err - test_cv_std_err,\n",
      "                 test_cv_mean_err + test_cv_std_err, alpha=0.1,\n",
      "                 color=\"g\")\n",
      "plt.plot(train_sizes, train_cv_mean_err, 'o-', color=\"r\", label=\"Score on training set\")\n",
      "plt.plot(train_sizes, test_cv_mean_err, 'o-', color=\"g\", label=\"Cross-validation score on test set\")\n",
      "plt.legend(loc=4)\n",
      "plt.show()"
     ],
     "language": "python",
     "metadata": {},
     "outputs": [
      {
       "output_type": "stream",
       "stream": "stdout",
       "text": [
        "total training set size =  348\n",
        "train_sizes =  [ 39  78 117 156 195 234 273 312 351 391]\n",
        "train_cv_mean_err =  [ 0.97179487  0.97307692  0.97606838  0.98012821  0.97846154  0.97649573\n",
        "  0.97362637  0.97339744  0.97094017  0.97186701]\n",
        "train_cv_std_err =  [ 0.00769231  0.00384615  0.0034188   0.00345203  0.00307692  0.00477792\n",
        "  0.00394518  0.00380588  0.0024837   0.00280165]\n",
        "test_cv_mean_err =  [ 0.9143436   0.91894443  0.93279724  0.94204923  0.94675576  0.94675576\n",
        "  0.95140944  0.95135407  0.9559549   0.95822763]\n",
        "test_cv_std_err =  [ 0.05284118  0.04893387  0.03761298  0.04164412  0.0461195   0.05141534\n",
        "  0.04376764  0.04880193  0.0426632   0.04066471]\n"
       ]
      },
      {
       "metadata": {},
       "output_type": "display_data",
       "png": "[encoded data removed]",
       "text": [
        "<matplotlib.figure.Figure at 0x10a694c10>"
       ]
      }
     ],
     "prompt_number": 10
    },
    {
     "cell_type": "code",
     "collapsed": false,
     "input": [
      "estimator = KNeighborsClassifier(n_neighbors=k)\n",
      "\n",
      "train_sizes, train_errors, test_errors = learning_curve(estimator, X_values, y_values, cv=nrCrossValidationFolds, n_jobs=1, train_sizes=trainSplits)\n",
      "\n",
      "train_cv_mean_err = np.mean(train_errors,axis=1)\n",
      "train_cv_std_err = np.std(train_errors,axis=1)\n",
      "test_cv_mean_err = np.mean(test_errors,axis=1)\n",
      "test_cv_std_err = np.std(test_errors,axis=1)\n",
      "\n",
      "plt.figure()\n",
      "plt.title(\"Learning curve for K nearest neighbors model (K=10)\")\n",
      "plt.xlabel(\"Number of training examples\")\n",
      "plt.ylabel(\"Accuracy\")\n",
      "\n",
      "plt.grid()\n",
      "# Draw the area indication standard error around the mean\n",
      "plt.fill_between(train_sizes, train_cv_mean_err - train_cv_std_err,\n",
      "                 train_cv_mean_err + train_cv_std_err, alpha=0.1,\n",
      "                 color=\"r\")\n",
      "plt.fill_between(train_sizes, test_cv_mean_err - test_cv_std_err,\n",
      "                 test_cv_mean_err + test_cv_std_err, alpha=0.1,\n",
      "                 color=\"g\")\n",
      "plt.plot(train_sizes, train_cv_mean_err, 'o-', color=\"r\", label=\"Score on training set\")\n",
      "plt.plot(train_sizes, test_cv_mean_err, 'o-', color=\"g\", label=\"Cross-validation score on test set\")\n",
      "plt.legend(loc=4)\n",
      "plt.show()"
     ],
     "language": "python",
     "metadata": {},
     "outputs": [
      {
       "metadata": {},
       "output_type": "display_data",
       "png": "[encoded data removed]",
       "text": [
        "<matplotlib.figure.Figure at 0x10aa04210>"
       ]
      }
     ],
     "prompt_number": 11
    },
    {
     "cell_type": "heading",
     "level": 3,
     "metadata": {},
     "source": [
      "Challenge 8"
     ]
    },
    {
     "cell_type": "markdown",
     "metadata": {},
     "source": [
      "This is a preview of many other classification algorithms that we will go over. Scikit.learn has the same interface for all of these, so you can use them exactly the same way as you did LogisticRegression and KNeighborsClassifier. Use each of these to classify your data and print the test accuracy of each:"
     ]
    },
    {
     "cell_type": "code",
     "collapsed": false,
     "input": [
      "from sklearn.naive_bayes import GaussianNB\n",
      "from sklearn.svm import SVC\n",
      "from sklearn.tree import DecisionTreeClassifier\n",
      "from sklearn.ensemble import RandomForestClassifier, GradientBoostingClassifier\n",
      "\n",
      "models = {'logres': LogisticRegression(),\n",
      "          'knn': KNeighborsClassifier(n_neighbors=10),\n",
      "          'gaussianNB': GaussianNB(),\n",
      "          'svc': SVC(probability=True),\n",
      "          'decisiontree': DecisionTreeClassifier(),\n",
      "          'randomforest': RandomForestClassifier(),\n",
      "#          'gbm1': GradientBoostingClassifier(learning_rate=0.4,  n_estimators=200, subsample=1.0, random_state=1, verbose=1)\n",
      "         }\n",
      "\n",
      "plt.figure(1, (9,6))\n",
      "plt.title(\"Learning curves for various model types\")\n",
      "plt.xlabel(\"Number of training examples\")\n",
      "plt.ylabel(\"Accuracy on test set\")\n",
      "plt.grid()\n",
      "\n",
      "for modelName, model in models.items():\n",
      "    train_sizes, train_errors, test_errors = learning_curve(model, X_values, y_values, cv=nrCrossValidationFolds, n_jobs=1, train_sizes=trainSplits)\n",
      "\n",
      "#    train_cv_mean_err = np.mean(train_errors,axis=1)\n",
      "    test_cv_mean_err = np.mean(test_errors,axis=1)\n",
      "\n",
      "    plt.plot(train_sizes, test_cv_mean_err, 'o-', label=modelName)\n",
      "\n",
      "plt.legend(loc=2)\n",
      "plt.show()"
     ],
     "language": "python",
     "metadata": {},
     "outputs": [
      {
       "metadata": {},
       "output_type": "display_data",
       "png": "[encoded data removed]",
       "text": [
        "<matplotlib.figure.Figure at 0x10ab54f10>"
       ]
      }
     ],
     "prompt_number": 12
    },
    {
     "cell_type": "heading",
     "level": 3,
     "metadata": {},
     "source": [
      "Challenge 9"
     ]
    },
    {
     "cell_type": "markdown",
     "metadata": {},
     "source": [
      "There is actually a way to do cross validation quickly to get your accuracy results for an algorithm, without separating training and test yourself:\n",
      "\n",
      "from sklearn.cross_validation import cross_val_score\n",
      "\n",
      "Just like the learning_curve function, this takes a classifier object, X and Y. Returns accuracy (or whatever score you prefer by using the _scoring_ keyword argument). Of course, it will return a score for each cross validation fold, so to get the generalized accuracy, you need to take the mean of what it returns.\n",
      "\n",
      "Use this function to calculate the cross validation score of each of the classifiers you tried before."
     ]
    },
    {
     "cell_type": "code",
     "collapsed": false,
     "input": [
      "from sklearn.cross_validation import cross_val_score\n",
      "\n",
      "print \"Accuracy for various models with %d-fold cross validation:\" % nrCrossValidationFolds\n",
      "\n",
      "for modelName, model in models.items():\n",
      "    scores = cross_val_score(model, X_values, y=y_values, cv=nrCrossValidationFolds, n_jobs=1)\n",
      "    print \"%s: %0.3f (+/- %0.3f)\" % (modelName, scores.mean(), scores.std())"
     ],
     "language": "python",
     "metadata": {},
     "outputs": [
      {
       "output_type": "stream",
       "stream": "stdout",
       "text": [
        "Accuracy for various models with 10-fold cross validation:\n",
        "knn: 0.933 (+/- 0.044)\n",
        "randomforest: 0.967 (+/- 0.032)"
       ]
      },
      {
       "output_type": "stream",
       "stream": "stdout",
       "text": [
        "\n",
        "gaussianNB: 0.940 (+/- 0.052)\n",
        "svc: 0.958 (+/- 0.043)"
       ]
      },
      {
       "output_type": "stream",
       "stream": "stdout",
       "text": [
        "\n",
        "decisiontree: 0.935 (+/- 0.037)\n",
        "logres: 0.958 (+/- 0.041)\n"
       ]
      }
     ],
     "prompt_number": 13
    },
    {
     "cell_type": "heading",
     "level": 3,
     "metadata": {},
     "source": [
      "Challenge 10"
     ]
    },
    {
     "cell_type": "markdown",
     "metadata": {},
     "source": [
      "Instead of 'democrat' or 'republican', can you predict the vote of a representative based on their other votes?\n",
      "\n",
      "Reload the data from scratch. Convert y-->1, n-->0.\n",
      "\n",
      "Choose one vote. Build a classifier (logistic regression or KNN), that uses the other votes (do not use the party as a feature) to predict if the vote will be 1 or 0.\n",
      "\n",
      "Convert each ? to the mode of the column (if a senator has not voted, make their vote 1 if most others voted 1, make it 0 if most others voted 0).\n",
      "\n",
      "Calculate the cross validation accuracy of your classifier for predicting how each representative will vote on the issue."
     ]
    },
    {
     "cell_type": "code",
     "collapsed": false,
     "input": [
      "votesDF4=pd.read_csv('house-votes-84.csv', sep=',', header=0)\n",
      "votesDF5 = votesDF4.replace(to_replace=['y','n','?'],value=[1,0,np.nan])\n",
      "votesDF6 = votesDF5.replace(to_replace=[np.nan],value=[votesDF5.mode(axis=0,numeric_only=True)])\n",
      "votesDF6.head(5)"
     ],
     "language": "python",
     "metadata": {},
     "outputs": [
      {
       "html": [
        "<div style=\"max-height:1000px;max-width:1500px;overflow:auto;\">\n",
        "<table border=\"1\" class=\"dataframe\">\n",
        "  <thead>\n",
        "    <tr style=\"text-align: right;\">\n",
        "      <th></th>\n",
        "      <th>class-name</th>\n",
        "      <th>handicapped-infants</th>\n",
        "      <th>water-project-cost-sharing</th>\n",
        "      <th>adoption-of-the-budget-resolution</th>\n",
        "      <th>physician-fee-freeze</th>\n",
        "      <th>el-salvador-aid</th>\n",
        "      <th>religious-groups-in-schools</th>\n",
        "      <th>anti-satellite-test-ban</th>\n",
        "      <th>aid-to-nicaraguan-contras</th>\n",
        "      <th>mx-missile</th>\n",
        "      <th>immigration</th>\n",
        "      <th>synfuels-corporation-cutback</th>\n",
        "      <th>education-spending</th>\n",
        "      <th>superfund-right-to-sue</th>\n",
        "      <th>crime</th>\n",
        "      <th>duty-free-exports</th>\n",
        "      <th>export-administration-act-south-africa</th>\n",
        "    </tr>\n",
        "  </thead>\n",
        "  <tbody>\n",
        "    <tr>\n",
        "      <th>0</th>\n",
        "      <td> republican</td>\n",
        "      <td> 0</td>\n",
        "      <td> 1</td>\n",
        "      <td> 0</td>\n",
        "      <td> 1</td>\n",
        "      <td> 1</td>\n",
        "      <td> 1</td>\n",
        "      <td> 0</td>\n",
        "      <td> 0</td>\n",
        "      <td> 0</td>\n",
        "      <td> 1</td>\n",
        "      <td> 0</td>\n",
        "      <td> 1</td>\n",
        "      <td> 1</td>\n",
        "      <td> 1</td>\n",
        "      <td> 0</td>\n",
        "      <td> 1</td>\n",
        "    </tr>\n",
        "    <tr>\n",
        "      <th>1</th>\n",
        "      <td> republican</td>\n",
        "      <td> 0</td>\n",
        "      <td> 1</td>\n",
        "      <td> 0</td>\n",
        "      <td> 1</td>\n",
        "      <td> 1</td>\n",
        "      <td> 1</td>\n",
        "      <td> 0</td>\n",
        "      <td> 0</td>\n",
        "      <td> 0</td>\n",
        "      <td> 0</td>\n",
        "      <td> 0</td>\n",
        "      <td> 1</td>\n",
        "      <td> 1</td>\n",
        "      <td> 1</td>\n",
        "      <td> 0</td>\n",
        "      <td> 0</td>\n",
        "    </tr>\n",
        "    <tr>\n",
        "      <th>2</th>\n",
        "      <td>   democrat</td>\n",
        "      <td> 1</td>\n",
        "      <td> 1</td>\n",
        "      <td> 1</td>\n",
        "      <td> 0</td>\n",
        "      <td> 1</td>\n",
        "      <td> 1</td>\n",
        "      <td> 0</td>\n",
        "      <td> 0</td>\n",
        "      <td> 0</td>\n",
        "      <td> 0</td>\n",
        "      <td> 1</td>\n",
        "      <td> 0</td>\n",
        "      <td> 1</td>\n",
        "      <td> 1</td>\n",
        "      <td> 0</td>\n",
        "      <td> 0</td>\n",
        "    </tr>\n",
        "    <tr>\n",
        "      <th>3</th>\n",
        "      <td>   democrat</td>\n",
        "      <td> 0</td>\n",
        "      <td> 1</td>\n",
        "      <td> 1</td>\n",
        "      <td> 0</td>\n",
        "      <td> 1</td>\n",
        "      <td> 1</td>\n",
        "      <td> 0</td>\n",
        "      <td> 0</td>\n",
        "      <td> 0</td>\n",
        "      <td> 0</td>\n",
        "      <td> 1</td>\n",
        "      <td> 0</td>\n",
        "      <td> 1</td>\n",
        "      <td> 0</td>\n",
        "      <td> 0</td>\n",
        "      <td> 1</td>\n",
        "    </tr>\n",
        "    <tr>\n",
        "      <th>4</th>\n",
        "      <td>   democrat</td>\n",
        "      <td> 1</td>\n",
        "      <td> 1</td>\n",
        "      <td> 1</td>\n",
        "      <td> 0</td>\n",
        "      <td> 1</td>\n",
        "      <td> 1</td>\n",
        "      <td> 0</td>\n",
        "      <td> 0</td>\n",
        "      <td> 0</td>\n",
        "      <td> 0</td>\n",
        "      <td> 1</td>\n",
        "      <td> 1</td>\n",
        "      <td> 1</td>\n",
        "      <td> 1</td>\n",
        "      <td> 1</td>\n",
        "      <td> 1</td>\n",
        "    </tr>\n",
        "  </tbody>\n",
        "</table>\n",
        "</div>"
       ],
       "metadata": {},
       "output_type": "pyout",
       "prompt_number": 35,
       "text": [
        "   class-name  handicapped-infants  water-project-cost-sharing  \\\n",
        "0  republican                    0                           1   \n",
        "1  republican                    0                           1   \n",
        "2    democrat                    1                           1   \n",
        "3    democrat                    0                           1   \n",
        "4    democrat                    1                           1   \n",
        "\n",
        "   adoption-of-the-budget-resolution  physician-fee-freeze  el-salvador-aid  \\\n",
        "0                                  0                     1                1   \n",
        "1                                  0                     1                1   \n",
        "2                                  1                     0                1   \n",
        "3                                  1                     0                1   \n",
        "4                                  1                     0                1   \n",
        "\n",
        "   religious-groups-in-schools  anti-satellite-test-ban  \\\n",
        "0                            1                        0   \n",
        "1                            1                        0   \n",
        "2                            1                        0   \n",
        "3                            1                        0   \n",
        "4                            1                        0   \n",
        "\n",
        "   aid-to-nicaraguan-contras  mx-missile  immigration  \\\n",
        "0                          0           0            1   \n",
        "1                          0           0            0   \n",
        "2                          0           0            0   \n",
        "3                          0           0            0   \n",
        "4                          0           0            0   \n",
        "\n",
        "   synfuels-corporation-cutback  education-spending  superfund-right-to-sue  \\\n",
        "0                             0                   1                       1   \n",
        "1                             0                   1                       1   \n",
        "2                             1                   0                       1   \n",
        "3                             1                   0                       1   \n",
        "4                             1                   1                       1   \n",
        "\n",
        "   crime  duty-free-exports  export-administration-act-south-africa  \n",
        "0      1                  0                                       1  \n",
        "1      1                  0                                       0  \n",
        "2      1                  0                                       0  \n",
        "3      0                  0                                       1  \n",
        "4      1                  1                                       1  "
       ]
      }
     ],
     "prompt_number": 35
    },
    {
     "cell_type": "markdown",
     "metadata": {},
     "source": [
      "We pick 'handicapped-infants' as the target variable."
     ]
    },
    {
     "cell_type": "code",
     "collapsed": false,
     "input": [
      "X_values = votesDF6[votesDF6.columns[2:17]]\n",
      "y_values = votesDF6['handicapped-infants']\n",
      "\n",
      "estimator = LogisticRegression()\n",
      "nrCrossValidationFolds = 10\n",
      "\n",
      "print \"Logistic Regression Accuracy with %d-fold cross validation:\" % nrCrossValidationFolds,\n",
      "\n",
      "scores = cross_val_score(estimator, X_values, y=y_values, cv=nrCrossValidationFolds, n_jobs=1)\n",
      "print \"%0.3f (+/- %0.3f)\" % (scores.mean(), scores.std())"
     ],
     "language": "python",
     "metadata": {},
     "outputs": [
      {
       "output_type": "stream",
       "stream": "stdout",
       "text": [
        "Logistic Regression Accuracy with 10-fold cross validation: 0.694 (+/- 0.113)\n"
       ]
      }
     ],
     "prompt_number": 36
    },
    {
     "cell_type": "heading",
     "level": 3,
     "metadata": {},
     "source": [
      "Challenge 11"
     ]
    },
    {
     "cell_type": "markdown",
     "metadata": {},
     "source": [
      "Back to your movie data! Choose one categoric feature to predict. I chose MPAA Rating, but genre, month, etc. are all decent choices. If you don't have any non-numeric features, you can make two bins out of a numeric one (like \"Runtime>100 mins\" and \"Runtime<=100 mins\")\n",
      "\n",
      "Make a bar graph of how many of each movie there is in the data. For example, with Ratings, show how many G, PG, PG-13, R movies there are, etc. (basically a histogram of your labels).\n",
      "\n",
      "Predict your outcome variable (labels) using KNN and logistic regression. Calculate their accuracies.\n",
      "\n",
      "Make a baseline stupid predictor that always predicts the label that is present the most in the data. Calculate its accuracy on a test set.\n",
      "\n",
      "How much better do KNN and logistic regression do versus the baseline?\n",
      "\n",
      "What are the coefficients of logistic regression? Which features affect the outcome how?"
     ]
    },
    {
     "cell_type": "code",
     "collapsed": false,
     "input": [
      "moviesDF=pd.read_csv('BoxOfficeMojoMovies.csv', sep=',', header=0)\n",
      "moviesDF.head(1)"
     ],
     "language": "python",
     "metadata": {},
     "outputs": [
      {
       "html": [
        "<div style=\"max-height:1000px;max-width:1500px;overflow:auto;\">\n",
        "<table border=\"1\" class=\"dataframe\">\n",
        "  <thead>\n",
        "    <tr style=\"text-align: right;\">\n",
        "      <th></th>\n",
        "      <th>Title</th>\n",
        "      <th>Genre</th>\n",
        "      <th>Actors</th>\n",
        "      <th>Directors</th>\n",
        "      <th>Writers</th>\n",
        "      <th>Producers</th>\n",
        "      <th>Composers</th>\n",
        "      <th>DomesticTotalGross</th>\n",
        "      <th>ProductionBudget</th>\n",
        "      <th>RuntimeInMinutes</th>\n",
        "      <th>ReleaseDate</th>\n",
        "      <th>MPAARating</th>\n",
        "      <th>ForeignTotalGross</th>\n",
        "      <th>OpeningWeekendGross</th>\n",
        "      <th>OWRank</th>\n",
        "      <th>OWNumberTheaters</th>\n",
        "      <th>OWAvgGrossPerTheater</th>\n",
        "      <th>ReleaseSeason</th>\n",
        "    </tr>\n",
        "  </thead>\n",
        "  <tbody>\n",
        "    <tr>\n",
        "      <th>0</th>\n",
        "      <td> 10</td>\n",
        "      <td> romantic comedy</td>\n",
        "      <td> NaN</td>\n",
        "      <td> NaN</td>\n",
        "      <td> NaN</td>\n",
        "      <td> NaN</td>\n",
        "      <td> NaN</td>\n",
        "      <td> 74865517</td>\n",
        "      <td>NaN</td>\n",
        "      <td> 121</td>\n",
        "      <td> 1979-10-05 00:00:00</td>\n",
        "      <td> R</td>\n",
        "      <td>NaN</td>\n",
        "      <td> 3526692</td>\n",
        "      <td> 1</td>\n",
        "      <td> 706</td>\n",
        "      <td> 4995</td>\n",
        "      <td> fall</td>\n",
        "    </tr>\n",
        "  </tbody>\n",
        "</table>\n",
        "</div>"
       ],
       "metadata": {},
       "output_type": "pyout",
       "prompt_number": 37,
       "text": [
        "  Title            Genre Actors Directors Writers Producers Composers  \\\n",
        "0    10  romantic comedy    NaN       NaN     NaN       NaN       NaN   \n",
        "\n",
        "   DomesticTotalGross  ProductionBudget  RuntimeInMinutes  \\\n",
        "0            74865517               NaN               121   \n",
        "\n",
        "           ReleaseDate MPAARating  ForeignTotalGross  OpeningWeekendGross  \\\n",
        "0  1979-10-05 00:00:00          R                NaN              3526692   \n",
        "\n",
        "   OWRank  OWNumberTheaters  OWAvgGrossPerTheater ReleaseSeason  \n",
        "0       1               706                  4995          fall  "
       ]
      }
     ],
     "prompt_number": 37
    },
    {
     "cell_type": "code",
     "collapsed": false,
     "input": [
      "print \"Original number of rows:\", len(moviesDF)\n",
      "features =  ['ProductionBudget','RuntimeInMinutes','OpeningWeekendGross','OWNumberTheaters','OWAvgGrossPerTheater']\n",
      "label = ['MPAARating']\n",
      "relevantFields = features\n",
      "relevantFields.extend(label)\n",
      "moviesDF2 = moviesDF.dropna(subset=relevantFields)\n",
      "print \"Remaining number of rows after removal of rows containing NaN in relevant fields:\", len(moviesDF2)\n",
      "countsPerRating = moviesDF2.groupby(['MPAARating'], sort=True).count()\n",
      "plt = countsPerRating['Title'].plot(kind='bar', title=\"MPAARating values\")\n",
      "countsPerRating['Title']"
     ],
     "language": "python",
     "metadata": {},
     "outputs": [
      {
       "output_type": "stream",
       "stream": "stdout",
       "text": [
        "Original number of rows: 15244\n",
        "Remaining number of rows after removal of rows containing NaN in relevant fields: 2619\n"
       ]
      },
      {
       "metadata": {},
       "output_type": "pyout",
       "prompt_number": 38,
       "text": [
        "MPAARating\n",
        "G               71\n",
        "NC-17            6\n",
        "PG             421\n",
        "PG-13          997\n",
        "R             1079\n",
        "Unrated         45\n",
        "Name: Title, dtype: int64"
       ]
      },
      {
       "metadata": {},
       "output_type": "display_data",
       "png": "[encoded data removed]",
       "text": [
        "<matplotlib.figure.Figure at 0x104a80f90>"
       ]
      }
     ],
     "prompt_number": 38
    },
    {
     "cell_type": "code",
     "collapsed": false,
     "input": [
      "from sklearn.dummy import DummyClassifier\n",
      "\n",
      "labelValues = [i for i in countsPerRating['Title'].index]\n",
      "moviesDF3 = moviesDF2.replace(to_replace=labelValues,value=range(len(labelValues)))\n",
      "X_values = moviesDF3[features]\n",
      "y_values = moviesDF2[label[0]]\n",
      "\n",
      "estimators = {'logres' : LogisticRegression(),\n",
      "              'knn' : KNeighborsClassifier(n_neighbors=3),\n",
      "              'baseline': DummyClassifier(strategy='most_frequent')}\n",
      "nrCrossValidationFolds = 3\n",
      "\n",
      "print \"Accuracy for various models with %d-fold cross validation:\" % nrCrossValidationFolds\n",
      "\n",
      "for eName, e in estimators.items():\n",
      "    scores = cross_val_score(e, X_values, y=y_values, cv=nrCrossValidationFolds, n_jobs=1)\n",
      "    print \"%s: %0.3f (+/- %0.3f)\" % (eName, scores.mean(), scores.std())"
     ],
     "language": "python",
     "metadata": {},
     "outputs": [
      {
       "output_type": "stream",
       "stream": "stdout",
       "text": [
        "Accuracy for various models with 3-fold cross validation:\n",
        "knn: 0.359 (+/- 0.011)\n",
        "logres: 0.474 (+/- 0.008)"
       ]
      },
      {
       "output_type": "stream",
       "stream": "stdout",
       "text": [
        "\n",
        "baseline: 0.412 (+/- 0.000)\n"
       ]
      }
     ],
     "prompt_number": 39
    },
    {
     "cell_type": "heading",
     "level": 3,
     "metadata": {},
     "source": [
      "Challenge 12"
     ]
    },
    {
     "cell_type": "markdown",
     "metadata": {},
     "source": [
      "Now you are a classification master. The representative votes dataset only had 0s and 1s. Let's just swiftly tackle the breast cancer surgery data we talked about in class.\n",
      "\n",
      "Get it from [here](https://archive.ics.uci.edu/ml/datasets/Haberman%27s+Survival).\n"
     ]
    },
    {
     "cell_type": "code",
     "collapsed": false,
     "input": [
      "cancerDF=pd.read_csv('haberman.csv', sep=',', header=0)\n",
      "cancerDF.tail(3)"
     ],
     "language": "python",
     "metadata": {},
     "outputs": [
      {
       "html": [
        "<div style=\"max-height:1000px;max-width:1500px;overflow:auto;\">\n",
        "<table border=\"1\" class=\"dataframe\">\n",
        "  <thead>\n",
        "    <tr style=\"text-align: right;\">\n",
        "      <th></th>\n",
        "      <th>AgeAtOperation</th>\n",
        "      <th>YearOfOperation</th>\n",
        "      <th>NrPosAxillaryNodes</th>\n",
        "      <th>Survival</th>\n",
        "    </tr>\n",
        "  </thead>\n",
        "  <tbody>\n",
        "    <tr>\n",
        "      <th>303</th>\n",
        "      <td> 77</td>\n",
        "      <td> 65</td>\n",
        "      <td> 3</td>\n",
        "      <td> 1</td>\n",
        "    </tr>\n",
        "    <tr>\n",
        "      <th>304</th>\n",
        "      <td> 78</td>\n",
        "      <td> 65</td>\n",
        "      <td> 1</td>\n",
        "      <td> 2</td>\n",
        "    </tr>\n",
        "    <tr>\n",
        "      <th>305</th>\n",
        "      <td> 83</td>\n",
        "      <td> 58</td>\n",
        "      <td> 2</td>\n",
        "      <td> 2</td>\n",
        "    </tr>\n",
        "  </tbody>\n",
        "</table>\n",
        "</div>"
       ],
       "metadata": {},
       "output_type": "pyout",
       "prompt_number": 40,
       "text": [
        "     AgeAtOperation  YearOfOperation  NrPosAxillaryNodes  Survival\n",
        "303              77               65                   3         1\n",
        "304              78               65                   1         2\n",
        "305              83               58                   2         2"
       ]
      }
     ],
     "prompt_number": 40
    },
    {
     "cell_type": "markdown",
     "metadata": {},
     "source": [
      "What is the average and standard deviation of the age of all of the patients?"
     ]
    },
    {
     "cell_type": "code",
     "collapsed": false,
     "input": [
      "print \"Age at operation: %1.0f (+/- %1.1f) years\" % (cancerDF['AgeAtOperation'].mean(),cancerDF['AgeAtOperation'].std())"
     ],
     "language": "python",
     "metadata": {},
     "outputs": [
      {
       "output_type": "stream",
       "stream": "stdout",
       "text": [
        "Age at operation: 52 (+/- 10.8) years\n"
       ]
      }
     ],
     "prompt_number": 41
    },
    {
     "cell_type": "markdown",
     "metadata": {},
     "source": [
      "What is the average and standard deviation of the age of those patients that survived 5 or more years after surgery?"
     ]
    },
    {
     "cell_type": "code",
     "collapsed": false,
     "input": [
      "survivors = cancerDF[cancerDF['Survival']==1]\n",
      "print \"Age of patients who survived more than 5 years: %1.0f (+/- %1.1f) years\" % (survivors['AgeAtOperation'].mean(),survivors['AgeAtOperation'].std())"
     ],
     "language": "python",
     "metadata": {},
     "outputs": [
      {
       "output_type": "stream",
       "stream": "stdout",
       "text": [
        "Age of patients who survived more than 5 years: 52 (+/- 11.0) years\n"
       ]
      }
     ],
     "prompt_number": 42
    },
    {
     "cell_type": "markdown",
     "metadata": {},
     "source": [
      "What is the average and standard deviation of the age of those patients who survived fewer than 5 years after surgery?"
     ]
    },
    {
     "cell_type": "code",
     "collapsed": false,
     "input": [
      "nonSurvivors = cancerDF[cancerDF['Survival']==2]\n",
      "print \"Age of patients who survived less than 5 years: %1.0f (+/- %1.1f) years\" % (nonSurvivors['AgeAtOperation'].mean(),nonSurvivors['AgeAtOperation'].std())"
     ],
     "language": "python",
     "metadata": {},
     "outputs": [
      {
       "output_type": "stream",
       "stream": "stdout",
       "text": [
        "Age of patients who survived less than 5 years: 54 (+/- 10.2) years\n"
       ]
      }
     ],
     "prompt_number": 43
    },
    {
     "cell_type": "markdown",
     "metadata": {},
     "source": [
      "Plot a histogram of the ages side by side with a histogram of the number of axillary nodes."
     ]
    },
    {
     "cell_type": "code",
     "collapsed": false,
     "input": [
      "from matplotlib import pyplot as plt\n",
      "ax = plt.figure(1,(9,6))\n",
      "n, bins, patches = plt.hist([cancerDF['AgeAtOperation'],cancerDF['NrPosAxillaryNodes']], 20, histtype='bar', label=['AgeAtOperation', 'nrPositiveAxillaryNodes'])\n",
      "plt.ylabel(\"Count\")\n",
      "plt.legend()\n",
      "plt.show()"
     ],
     "language": "python",
     "metadata": {},
     "outputs": [
      {
       "metadata": {},
       "output_type": "display_data",
       "png": "[encoded data removed]",
       "text": [
        "<matplotlib.figure.Figure at 0x10bc982d0>"
       ]
      }
     ],
     "prompt_number": 61
    },
    {
     "cell_type": "markdown",
     "metadata": {},
     "source": [
      "What is the earliest year of surgery in this dataset?"
     ]
    },
    {
     "cell_type": "code",
     "collapsed": false,
     "input": [
      "minYear = cancerDF['YearOfOperation'].min()\n",
      "print \"Earliest year of surgery: %d\" % (int(minYear) + 1900)"
     ],
     "language": "python",
     "metadata": {},
     "outputs": [
      {
       "output_type": "stream",
       "stream": "stdout",
       "text": [
        "Earliest year of surgery: 1958\n"
       ]
      }
     ],
     "prompt_number": 62
    },
    {
     "cell_type": "markdown",
     "metadata": {},
     "source": [
      "What is the most recent year of surgery?"
     ]
    },
    {
     "cell_type": "code",
     "collapsed": false,
     "input": [
      "maxYear = cancerDF['YearOfOperation'].max()\n",
      "print \"Most recent year of surgery: %d\" % (int(maxYear) + 1900)"
     ],
     "language": "python",
     "metadata": {},
     "outputs": [
      {
       "output_type": "stream",
       "stream": "stdout",
       "text": [
        "Most recent year of surgery: 1969\n"
       ]
      }
     ],
     "prompt_number": 63
    },
    {
     "cell_type": "markdown",
     "metadata": {},
     "source": [
      "Use logistic regression to predict survival after 5 years. How well does your model do?"
     ]
    },
    {
     "cell_type": "code",
     "collapsed": false,
     "input": [
      "from matplotlib import pyplot as plt\n",
      "X_train = cancerDF[cancerDF.columns[0:3]]\n",
      "y_train = cancerDF['Survival']\n",
      "\n",
      "cValues = [pow(10,(x-10)) for x in range(20)]\n",
      "#print \"cValues = \", cValues \n",
      "\n",
      "# selects weights inversely proportional to class frequencies in the training set\n",
      "# See http://scikit-learn.org/stable/modules/generated/sklearn.linear_model.LogisticRegression.html\n",
      "#classWeight = 'auto'\n",
      "classWeight = None\n",
      "\n",
      "nrCrossValidationFolds=5\n",
      "\n",
      "estimators = []\n",
      "accuracies = []\n",
      "for c in cValues:\n",
      "    estimator = LogisticRegression(C=c,class_weight=classWeight)\n",
      "    scores = cross_val_score(estimator, X_values, y=y_values, cv=nrCrossValidationFolds, n_jobs=1)\n",
      "    estimators.append(estimator)\n",
      "    accuracies.append(scores.mean())\n",
      "\n",
      "print \"accuracies = \", accuracies\n",
      "\n",
      "fig = plt.figure()\n",
      "plt.plot([log10(c) for c in cValues],accuracies)\u001c",
      "\n",
      "plt.title(\"Classification accuracy on survival prediction\\nwith logres model using various C values\")\n",
      "plt.xlabel(\"log10(C)\")\n",
      "plt.ylabel(\"Accuracy\")\n",
      "plt.show()"
     ],
     "language": "python",
     "metadata": {},
     "outputs": [
      {
       "output_type": "stream",
       "stream": "stdout",
       "text": [
        "accuracies =  [0.46198797775933159, 0.47954698324636269, 0.47806093179766529, 0.47538620970267231, 0.47692314166207395, 0.47500743284981334, 0.47692314166207395, 0.47500743284981334, 0.47500743284981334, 0.47500743284981334, 0.47692314166207395, 0.47500743284981334, 0.47692314166207395, 0.47500743284981334, 0.47500743284981334, 0.47500743284981334, 0.47500743284981334, 0.47500743284981334, 0.47500743284981334, 0.47500743284981334]\n"
       ]
      },
      {
       "metadata": {},
       "output_type": "display_data",
       "png": "[encoded data removed]",
       "text": [
        "<matplotlib.figure.Figure at 0x10c038c10>"
       ]
      }
     ],
     "prompt_number": 95
    },
    {
     "cell_type": "markdown",
     "metadata": {},
     "source": [
      "The model does extremely bad (< 50%), even slightly worse than just guessing!"
     ]
    },
    {
     "cell_type": "markdown",
     "metadata": {},
     "source": [
      "What are the coefficients of logistic regression? Which features affect the outcome how?"
     ]
    },
    {
     "cell_type": "code",
     "collapsed": false,
     "input": [
      "logResModel = LogisticRegression(C=cValues[1], class_weight=classWeight)\n",
      "fittedModel = logResModel.fit(X_values, y_values)\n",
      "# http://scikit-learn.org/stable/modules/generated/sklearn.linear_model.LogisticRegression.html\n",
      "# `coef_` : array, shape = [n_classes, n_features]\n",
      "print fittedModel.coef_"
     ],
     "language": "python",
     "metadata": {},
     "outputs": [
      {
       "output_type": "stream",
       "stream": "stdout",
       "text": [
        "[[ -5.26486815e-08  -2.01893785e-05  -4.34919839e-08  -1.25523972e-04\n",
        "   -2.24648875e-05  -8.37215117e-07]\n",
        " [ -3.60608433e-07  -1.59236316e-06  -6.97685750e-07  -7.56216767e-07\n",
        "   -6.41931766e-05  -7.04880610e-08]\n",
        " [ -8.14808622e-09  -2.58854082e-06   7.33880546e-09  -2.44361651e-05\n",
        "   -1.05453710e-04  -1.16420941e-07]\n",
        " [  5.57626777e-11  -1.12965113e-05   2.35169009e-08  -1.29991330e-04\n",
        "   -4.10864423e-05  -4.79409565e-07]\n",
        " [ -8.01700661e-09   2.56188785e-08  -1.29555055e-08  -7.58268527e-08\n",
        "    3.43068330e-06   2.35680149e-09]\n",
        " [ -2.00199187e-07  -2.53545954e-07  -1.89427826e-06  -2.27520739e-07\n",
        "   -3.95372372e-05  -2.04135085e-10]]\n"
       ]
      }
     ],
     "prompt_number": 92
    },
    {
     "cell_type": "markdown",
     "metadata": {},
     "source": [
      "Draw the learning curve for logistic regression in this case."
     ]
    },
    {
     "cell_type": "code",
     "collapsed": false,
     "input": [
      "#http://docs.scipy.org/doc/numpy/reference/generated/numpy.linspace.html\n",
      "nrSplits = 10\n",
      "trainSplits = np.linspace(.1, 1.0, nrSplits)\n",
      "\n",
      "train_sizes, train_errors, test_errors = learning_curve(logResModel, X_values, y_values, cv=nrCrossValidationFolds, n_jobs=1, train_sizes=trainSplits)\n",
      "\n",
      "# List of nrSplits *absolute* training sizes\n",
      "print \"total training set size = \", len(X_train)\n",
      "print \"train_sizes = \", train_sizes\n",
      "\n",
      "# 2-dimensional array (nrSplits x nrCrossValidationFolds)\n",
      "#print \"train_errors = \", train_errors\n",
      "\n",
      "# 2-dimensional array (nrSplits x nrCrossValidationFolds)\n",
      "#print \"test_errors = \", test_errors\n",
      "\n",
      "train_cv_mean_err = np.mean(train_errors,axis=1)\n",
      "train_cv_std_err = np.std(train_errors,axis=1)\n",
      "test_cv_mean_err = np.mean(test_errors,axis=1)\n",
      "test_cv_std_err = np.std(test_errors,axis=1)\n",
      "\n",
      "# 1-dimensional arrays (nrSplits);\n",
      "# the other dimension (nrCrossValidationFolds) has been averaged away\n",
      "print \"train_cv_mean_err = \", train_cv_mean_err\n",
      "print \"train_cv_std_err = \", train_cv_std_err\n",
      "print \"test_cv_mean_err = \", test_cv_mean_err\n",
      "print \"test_cv_std_err = \", test_cv_std_err\n",
      "\n",
      "plt.figure()\n",
      "plt.title(\"Learning curve for logistic regression model on cancer survival prediction\")\n",
      "plt.xlabel(\"Number of training examples\")\n",
      "plt.ylabel(\"Accuracy\")\n",
      "\n",
      "plt.grid()\n",
      "# Draw the area indication standard error around the mean\n",
      "plt.fill_between(train_sizes, train_cv_mean_err - train_cv_std_err,\n",
      "                 train_cv_mean_err + train_cv_std_err, alpha=0.1,\n",
      "                 color=\"r\")\n",
      "plt.fill_between(train_sizes, test_cv_mean_err - test_cv_std_err,\n",
      "                 test_cv_mean_err + test_cv_std_err, alpha=0.1,\n",
      "                 color=\"g\")\n",
      "plt.plot(train_sizes, train_cv_mean_err, 'o-', color=\"r\", label=\"Score on training set\")\n",
      "plt.plot(train_sizes, test_cv_mean_err, 'o-', color=\"g\", label=\"Cross-validation score on test set\")\n",
      "plt.legend(loc=1)\n",
      "plt.show()"
     ],
     "language": "python",
     "metadata": {},
     "outputs": [
      {
       "output_type": "stream",
       "stream": "stdout",
       "text": [
        "total training set size =  306\n",
        "train_sizes =  [ 209  418  627  836 1046 1255 1464 1673 1882 2092]\n",
        "train_cv_mean_err =  [ 0.53779904  0.51913876  0.50685805  0.50023923  0.48871893  0.48478088\n",
        "  0.47800546  0.47280335  0.47247609  0.47743786]\n",
        "train_cv_std_err =  [ 0.02296651  0.00956938  0.00063796  0.00191388  0.00441844  0.00997258\n",
        "  0.01533101  0.01080551  0.00485131  0.00881617]\n",
        "test_cv_mean_err =  [ 0.47116946  0.47152286  0.46847301  0.47305393  0.4730634   0.47727136\n",
        "  0.47764655  0.47881412  0.48106936  0.47916384]\n",
        "test_cv_std_err =  [ 0.00525562  0.01983191  0.01748259  0.01644929  0.01742044  0.01304864\n",
        "  0.01861866  0.01847281  0.02128041  0.01878108]\n"
       ]
      },
      {
       "metadata": {},
       "output_type": "display_data",
       "png": "[encoded data removed]",
       "text": [
        "<matplotlib.figure.Figure at 0x10bcdcfd0>"
       ]
      }
     ],
     "prompt_number": 99
    },
    {
     "cell_type": "markdown",
     "metadata": {},
     "source": [
      "From this data set, we learn almost nothing!"
     ]
    }
   ],
   "metadata": {}
  }
 ]
}