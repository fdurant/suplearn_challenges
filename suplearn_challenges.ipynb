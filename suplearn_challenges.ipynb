{
 "metadata": {
  "name": "",
  "signature": "sha256:34b0d2a6300d21b64fc9ce28972144dc77096cdfa50f37bf88e11c250fd5e028"
 },
 "nbformat": 3,
 "nbformat_minor": 0,
 "worksheets": [
  {
   "cells": [
    {
     "cell_type": "heading",
     "level": 1,
     "metadata": {},
     "source": [
      "Supervised learning challenges (Frederik Durant)"
     ]
    },
    {
     "cell_type": "markdown",
     "metadata": {},
     "source": [
      "Download the congressional votes data from [here](https://archive.ics.uci.edu/ml/datasets/Congressional+Voting+Records).\n",
      "\n",
      "These are votes of U.S. House of Representatives Congressmen on 16 key issues in 1984. \n",
      "Read the description of the fields and download the data: house-votes-84.data\n",
      "\n",
      "We will try to see if we can predict the house members' party based on their votes. \n",
      "We will also use some of the general machine learning tools we learned (a bit more efficiently this time)."
     ]
    },
    {
     "cell_type": "heading",
     "level": 3,
     "metadata": {},
     "source": [
      "Challenge 1"
     ]
    },
    {
     "cell_type": "markdown",
     "metadata": {},
     "source": [
      "Load the data into a pandas dataframe. Replace 'y's with 1s, 'n's with 0s.\n",
      "\n",
      "Now, almost every representative has a ?. This represents a no vote (they were absent or some other similar reason). If we dropped all the rows that had a ?, we would throw out most of our data. Instead, we will replace ? with the best guess in the Bayesian sense: in the absence of any other information, we will say that the probability of the representative saying YES is the ratio of others that said YES over the whole votes.\n",
      "\n",
      "So, convert each ? to this probability (when yes=1 and no=0, this is the mean of the column)"
     ]
    },
    {
     "cell_type": "code",
     "collapsed": false,
     "input": [
      "import pandas as pd\n",
      "import numpy as np\n",
      "votesDF=pd.read_csv('house-votes-84.csv', sep=',', header=0)\n",
      "votesDF.head(3)"
     ],
     "language": "python",
     "metadata": {},
     "outputs": [
      {
       "html": [
        "<div style=\"max-height:1000px;max-width:1500px;overflow:auto;\">\n",
        "<table border=\"1\" class=\"dataframe\">\n",
        "  <thead>\n",
        "    <tr style=\"text-align: right;\">\n",
        "      <th></th>\n",
        "      <th>class-name</th>\n",
        "      <th>handicapped-infants</th>\n",
        "      <th>water-project-cost-sharing</th>\n",
        "      <th>adoption-of-the-budget-resolution</th>\n",
        "      <th>physician-fee-freeze</th>\n",
        "      <th>el-salvador-aid</th>\n",
        "      <th>religious-groups-in-schools</th>\n",
        "      <th>anti-satellite-test-ban</th>\n",
        "      <th>aid-to-nicaraguan-contras</th>\n",
        "      <th>mx-missile</th>\n",
        "      <th>immigration</th>\n",
        "      <th>synfuels-corporation-cutback</th>\n",
        "      <th>education-spending</th>\n",
        "      <th>superfund-right-to-sue</th>\n",
        "      <th>crime</th>\n",
        "      <th>duty-free-exports</th>\n",
        "      <th>export-administration-act-south-africa</th>\n",
        "    </tr>\n",
        "  </thead>\n",
        "  <tbody>\n",
        "    <tr>\n",
        "      <th>0</th>\n",
        "      <td> republican</td>\n",
        "      <td> n</td>\n",
        "      <td> y</td>\n",
        "      <td> n</td>\n",
        "      <td> y</td>\n",
        "      <td> y</td>\n",
        "      <td> y</td>\n",
        "      <td> n</td>\n",
        "      <td> n</td>\n",
        "      <td> n</td>\n",
        "      <td> y</td>\n",
        "      <td> ?</td>\n",
        "      <td> y</td>\n",
        "      <td> y</td>\n",
        "      <td> y</td>\n",
        "      <td> n</td>\n",
        "      <td> y</td>\n",
        "    </tr>\n",
        "    <tr>\n",
        "      <th>1</th>\n",
        "      <td> republican</td>\n",
        "      <td> n</td>\n",
        "      <td> y</td>\n",
        "      <td> n</td>\n",
        "      <td> y</td>\n",
        "      <td> y</td>\n",
        "      <td> y</td>\n",
        "      <td> n</td>\n",
        "      <td> n</td>\n",
        "      <td> n</td>\n",
        "      <td> n</td>\n",
        "      <td> n</td>\n",
        "      <td> y</td>\n",
        "      <td> y</td>\n",
        "      <td> y</td>\n",
        "      <td> n</td>\n",
        "      <td> ?</td>\n",
        "    </tr>\n",
        "    <tr>\n",
        "      <th>2</th>\n",
        "      <td>   democrat</td>\n",
        "      <td> ?</td>\n",
        "      <td> y</td>\n",
        "      <td> y</td>\n",
        "      <td> ?</td>\n",
        "      <td> y</td>\n",
        "      <td> y</td>\n",
        "      <td> n</td>\n",
        "      <td> n</td>\n",
        "      <td> n</td>\n",
        "      <td> n</td>\n",
        "      <td> y</td>\n",
        "      <td> n</td>\n",
        "      <td> y</td>\n",
        "      <td> y</td>\n",
        "      <td> n</td>\n",
        "      <td> n</td>\n",
        "    </tr>\n",
        "  </tbody>\n",
        "</table>\n",
        "</div>"
       ],
       "metadata": {},
       "output_type": "pyout",
       "prompt_number": 57,
       "text": [
        "   class-name handicapped-infants water-project-cost-sharing  \\\n",
        "0  republican                   n                          y   \n",
        "1  republican                   n                          y   \n",
        "2    democrat                   ?                          y   \n",
        "\n",
        "  adoption-of-the-budget-resolution physician-fee-freeze el-salvador-aid  \\\n",
        "0                                 n                    y               y   \n",
        "1                                 n                    y               y   \n",
        "2                                 y                    ?               y   \n",
        "\n",
        "  religious-groups-in-schools anti-satellite-test-ban  \\\n",
        "0                           y                       n   \n",
        "1                           y                       n   \n",
        "2                           y                       n   \n",
        "\n",
        "  aid-to-nicaraguan-contras mx-missile immigration  \\\n",
        "0                         n          n           y   \n",
        "1                         n          n           n   \n",
        "2                         n          n           n   \n",
        "\n",
        "  synfuels-corporation-cutback education-spending superfund-right-to-sue  \\\n",
        "0                            ?                  y                      y   \n",
        "1                            n                  y                      y   \n",
        "2                            y                  n                      y   \n",
        "\n",
        "  crime duty-free-exports export-administration-act-south-africa  \n",
        "0     y                 n                                      y  \n",
        "1     y                 n                                      ?  \n",
        "2     y                 n                                      n  "
       ]
      }
     ],
     "prompt_number": 57
    },
    {
     "cell_type": "code",
     "collapsed": false,
     "input": [
      "votesDF2 = votesDF.replace(to_replace=['y','n','?'],value=[1,0,np.nan])\n",
      "votesDF2.head(3)"
     ],
     "language": "python",
     "metadata": {},
     "outputs": [
      {
       "html": [
        "<div style=\"max-height:1000px;max-width:1500px;overflow:auto;\">\n",
        "<table border=\"1\" class=\"dataframe\">\n",
        "  <thead>\n",
        "    <tr style=\"text-align: right;\">\n",
        "      <th></th>\n",
        "      <th>class-name</th>\n",
        "      <th>handicapped-infants</th>\n",
        "      <th>water-project-cost-sharing</th>\n",
        "      <th>adoption-of-the-budget-resolution</th>\n",
        "      <th>physician-fee-freeze</th>\n",
        "      <th>el-salvador-aid</th>\n",
        "      <th>religious-groups-in-schools</th>\n",
        "      <th>anti-satellite-test-ban</th>\n",
        "      <th>aid-to-nicaraguan-contras</th>\n",
        "      <th>mx-missile</th>\n",
        "      <th>immigration</th>\n",
        "      <th>synfuels-corporation-cutback</th>\n",
        "      <th>education-spending</th>\n",
        "      <th>superfund-right-to-sue</th>\n",
        "      <th>crime</th>\n",
        "      <th>duty-free-exports</th>\n",
        "      <th>export-administration-act-south-africa</th>\n",
        "    </tr>\n",
        "  </thead>\n",
        "  <tbody>\n",
        "    <tr>\n",
        "      <th>0</th>\n",
        "      <td> republican</td>\n",
        "      <td>  0</td>\n",
        "      <td> 1</td>\n",
        "      <td> 0</td>\n",
        "      <td>  1</td>\n",
        "      <td> 1</td>\n",
        "      <td> 1</td>\n",
        "      <td> 0</td>\n",
        "      <td> 0</td>\n",
        "      <td> 0</td>\n",
        "      <td> 1</td>\n",
        "      <td>NaN</td>\n",
        "      <td> 1</td>\n",
        "      <td> 1</td>\n",
        "      <td> 1</td>\n",
        "      <td> 0</td>\n",
        "      <td>  1</td>\n",
        "    </tr>\n",
        "    <tr>\n",
        "      <th>1</th>\n",
        "      <td> republican</td>\n",
        "      <td>  0</td>\n",
        "      <td> 1</td>\n",
        "      <td> 0</td>\n",
        "      <td>  1</td>\n",
        "      <td> 1</td>\n",
        "      <td> 1</td>\n",
        "      <td> 0</td>\n",
        "      <td> 0</td>\n",
        "      <td> 0</td>\n",
        "      <td> 0</td>\n",
        "      <td>  0</td>\n",
        "      <td> 1</td>\n",
        "      <td> 1</td>\n",
        "      <td> 1</td>\n",
        "      <td> 0</td>\n",
        "      <td>NaN</td>\n",
        "    </tr>\n",
        "    <tr>\n",
        "      <th>2</th>\n",
        "      <td>   democrat</td>\n",
        "      <td>NaN</td>\n",
        "      <td> 1</td>\n",
        "      <td> 1</td>\n",
        "      <td>NaN</td>\n",
        "      <td> 1</td>\n",
        "      <td> 1</td>\n",
        "      <td> 0</td>\n",
        "      <td> 0</td>\n",
        "      <td> 0</td>\n",
        "      <td> 0</td>\n",
        "      <td>  1</td>\n",
        "      <td> 0</td>\n",
        "      <td> 1</td>\n",
        "      <td> 1</td>\n",
        "      <td> 0</td>\n",
        "      <td>  0</td>\n",
        "    </tr>\n",
        "  </tbody>\n",
        "</table>\n",
        "</div>"
       ],
       "metadata": {},
       "output_type": "pyout",
       "prompt_number": 89,
       "text": [
        "   class-name  handicapped-infants  water-project-cost-sharing  \\\n",
        "0  republican                    0                           1   \n",
        "1  republican                    0                           1   \n",
        "2    democrat                  NaN                           1   \n",
        "\n",
        "   adoption-of-the-budget-resolution  physician-fee-freeze  el-salvador-aid  \\\n",
        "0                                  0                     1                1   \n",
        "1                                  0                     1                1   \n",
        "2                                  1                   NaN                1   \n",
        "\n",
        "   religious-groups-in-schools  anti-satellite-test-ban  \\\n",
        "0                            1                        0   \n",
        "1                            1                        0   \n",
        "2                            1                        0   \n",
        "\n",
        "   aid-to-nicaraguan-contras  mx-missile  immigration  \\\n",
        "0                          0           0            1   \n",
        "1                          0           0            0   \n",
        "2                          0           0            0   \n",
        "\n",
        "   synfuels-corporation-cutback  education-spending  superfund-right-to-sue  \\\n",
        "0                           NaN                   1                       1   \n",
        "1                             0                   1                       1   \n",
        "2                             1                   0                       1   \n",
        "\n",
        "   crime  duty-free-exports  export-administration-act-south-africa  \n",
        "0      1                  0                                       1  \n",
        "1      1                  0                                     NaN  \n",
        "2      1                  0                                       0  "
       ]
      }
     ],
     "prompt_number": 89
    },
    {
     "cell_type": "code",
     "collapsed": false,
     "input": [
      "votesDF3 = votesDF2.replace(to_replace=np.nan,value=votesDF2.mean())\n",
      "votesDF3.head(3)"
     ],
     "language": "python",
     "metadata": {},
     "outputs": [
      {
       "html": [
        "<div style=\"max-height:1000px;max-width:1500px;overflow:auto;\">\n",
        "<table border=\"1\" class=\"dataframe\">\n",
        "  <thead>\n",
        "    <tr style=\"text-align: right;\">\n",
        "      <th></th>\n",
        "      <th>class-name</th>\n",
        "      <th>handicapped-infants</th>\n",
        "      <th>water-project-cost-sharing</th>\n",
        "      <th>adoption-of-the-budget-resolution</th>\n",
        "      <th>physician-fee-freeze</th>\n",
        "      <th>el-salvador-aid</th>\n",
        "      <th>religious-groups-in-schools</th>\n",
        "      <th>anti-satellite-test-ban</th>\n",
        "      <th>aid-to-nicaraguan-contras</th>\n",
        "      <th>mx-missile</th>\n",
        "      <th>immigration</th>\n",
        "      <th>synfuels-corporation-cutback</th>\n",
        "      <th>education-spending</th>\n",
        "      <th>superfund-right-to-sue</th>\n",
        "      <th>crime</th>\n",
        "      <th>duty-free-exports</th>\n",
        "      <th>export-administration-act-south-africa</th>\n",
        "    </tr>\n",
        "  </thead>\n",
        "  <tbody>\n",
        "    <tr>\n",
        "      <th>0</th>\n",
        "      <td> republican</td>\n",
        "      <td> 0.00000</td>\n",
        "      <td> 1</td>\n",
        "      <td> 0</td>\n",
        "      <td> 1.000000</td>\n",
        "      <td> 1</td>\n",
        "      <td> 1</td>\n",
        "      <td> 0</td>\n",
        "      <td> 0</td>\n",
        "      <td> 0</td>\n",
        "      <td> 1</td>\n",
        "      <td> 0.362319</td>\n",
        "      <td> 1</td>\n",
        "      <td> 1</td>\n",
        "      <td> 1</td>\n",
        "      <td> 0</td>\n",
        "      <td> 1.000000</td>\n",
        "    </tr>\n",
        "    <tr>\n",
        "      <th>1</th>\n",
        "      <td> republican</td>\n",
        "      <td> 0.00000</td>\n",
        "      <td> 1</td>\n",
        "      <td> 0</td>\n",
        "      <td> 1.000000</td>\n",
        "      <td> 1</td>\n",
        "      <td> 1</td>\n",
        "      <td> 0</td>\n",
        "      <td> 0</td>\n",
        "      <td> 0</td>\n",
        "      <td> 0</td>\n",
        "      <td> 0.000000</td>\n",
        "      <td> 1</td>\n",
        "      <td> 1</td>\n",
        "      <td> 1</td>\n",
        "      <td> 0</td>\n",
        "      <td> 0.812689</td>\n",
        "    </tr>\n",
        "    <tr>\n",
        "      <th>2</th>\n",
        "      <td>   democrat</td>\n",
        "      <td> 0.44208</td>\n",
        "      <td> 1</td>\n",
        "      <td> 1</td>\n",
        "      <td> 0.417453</td>\n",
        "      <td> 1</td>\n",
        "      <td> 1</td>\n",
        "      <td> 0</td>\n",
        "      <td> 0</td>\n",
        "      <td> 0</td>\n",
        "      <td> 0</td>\n",
        "      <td> 1.000000</td>\n",
        "      <td> 0</td>\n",
        "      <td> 1</td>\n",
        "      <td> 1</td>\n",
        "      <td> 0</td>\n",
        "      <td> 0.000000</td>\n",
        "    </tr>\n",
        "  </tbody>\n",
        "</table>\n",
        "</div>"
       ],
       "metadata": {},
       "output_type": "pyout",
       "prompt_number": 100,
       "text": [
        "   class-name  handicapped-infants  water-project-cost-sharing  \\\n",
        "0  republican              0.00000                           1   \n",
        "1  republican              0.00000                           1   \n",
        "2    democrat              0.44208                           1   \n",
        "\n",
        "   adoption-of-the-budget-resolution  physician-fee-freeze  el-salvador-aid  \\\n",
        "0                                  0              1.000000                1   \n",
        "1                                  0              1.000000                1   \n",
        "2                                  1              0.417453                1   \n",
        "\n",
        "   religious-groups-in-schools  anti-satellite-test-ban  \\\n",
        "0                            1                        0   \n",
        "1                            1                        0   \n",
        "2                            1                        0   \n",
        "\n",
        "   aid-to-nicaraguan-contras  mx-missile  immigration  \\\n",
        "0                          0           0            1   \n",
        "1                          0           0            0   \n",
        "2                          0           0            0   \n",
        "\n",
        "   synfuels-corporation-cutback  education-spending  superfund-right-to-sue  \\\n",
        "0                      0.362319                   1                       1   \n",
        "1                      0.000000                   1                       1   \n",
        "2                      1.000000                   0                       1   \n",
        "\n",
        "   crime  duty-free-exports  export-administration-act-south-africa  \n",
        "0      1                  0                                1.000000  \n",
        "1      1                  0                                0.812689  \n",
        "2      1                  0                                0.000000  "
       ]
      }
     ],
     "prompt_number": 100
    },
    {
     "cell_type": "heading",
     "level": 3,
     "metadata": {},
     "source": [
      "Challenge 2"
     ]
    },
    {
     "cell_type": "markdown",
     "metadata": {},
     "source": [
      "Split the data into a test and training set. But this time, use this function:"
     ]
    },
    {
     "cell_type": "code",
     "collapsed": false,
     "input": [
      "from sklearn.cross_validation import train_test_split\n",
      "X_train, X_test, y_train, y_test = train_test_split(votesDF3[votesDF3.columns[1:17]], votesDF3['class-name'], test_size=0.2, random_state=0)\n",
      "print \"X_train (%d examples) = \" % len(X_train), X_train\n",
      "print \"X_test (%d examples) = \" % len(X_test), X_test\n",
      "print \"y_train (%d labels) = \" % len(y_train), y_train\n",
      "print \"y_test (%d labels) = \" % len(y_test), y_test"
     ],
     "language": "python",
     "metadata": {},
     "outputs": [
      {
       "output_type": "stream",
       "stream": "stdout",
       "text": [
        "X_train (348 examples) =  [[ 1.          1.          1.         ...,  1.          1.          1.        ]\n",
        " [ 0.          1.          0.         ...,  1.          0.          1.        ]\n",
        " [ 0.          1.          1.         ...,  1.          1.          1.        ]\n",
        " ..., \n",
        " [ 1.          1.          1.         ...,  1.          0.          1.        ]\n",
        " [ 1.          0.          1.         ...,  0.          0.          0.81268882]\n",
        " [ 0.          1.          1.         ...,  0.          1.          1.        ]]\n",
        "X_test (87 examples) =  [[ 0.          0.          1.         ...,  1.          0.          1.        ]\n",
        " [ 1.          0.          1.         ...,  0.          1.          0.81268882]\n",
        " [ 1.          1.          1.         ...,  1.          0.          0.81268882]\n",
        " ..., \n",
        " [ 1.          0.          1.         ...,  0.          1.          1.        ]\n",
        " [ 1.          1.          1.         ...,  0.          1.          0.81268882]\n",
        " [ 1.          0.          1.         ...,  0.          1.          0.81268882]]\n",
        "y_train (348 labels) =  ['democrat' 'republican' 'democrat' 'democrat' 'democrat' 'republican'\n",
        " 'democrat' 'democrat' 'republican' 'republican' 'republican' 'republican'\n",
        " 'democrat' 'democrat' 'democrat' 'democrat' 'democrat' 'democrat'\n",
        " 'republican' 'democrat' 'republican' 'republican' 'democrat' 'democrat'\n",
        " 'republican' 'republican' 'democrat' 'democrat' 'republican' 'republican'\n",
        " 'democrat' 'democrat' 'democrat' 'republican' 'republican' 'democrat'\n",
        " 'democrat' 'democrat' 'democrat' 'democrat' 'democrat' 'republican'\n",
        " 'democrat' 'republican' 'republican' 'democrat' 'republican' 'republican'\n",
        " 'republican' 'democrat' 'republican' 'democrat' 'democrat' 'republican'\n",
        " 'republican' 'democrat' 'republican' 'democrat' 'republican' 'democrat'\n",
        " 'republican' 'democrat' 'republican' 'democrat' 'democrat' 'republican'\n",
        " 'republican' 'democrat' 'republican' 'republican' 'democrat' 'republican'\n",
        " 'democrat' 'republican' 'democrat' 'republican' 'democrat' 'republican'\n",
        " 'republican' 'democrat' 'republican' 'democrat' 'democrat' 'republican'\n",
        " 'democrat' 'democrat' 'democrat' 'democrat' 'republican' 'democrat'\n",
        " 'democrat' 'democrat' 'republican' 'republican' 'republican' 'democrat'\n",
        " 'republican' 'democrat' 'republican' 'republican' 'republican' 'democrat'\n",
        " 'democrat' 'republican' 'democrat' 'democrat' 'republican' 'republican'\n",
        " 'democrat' 'democrat' 'republican' 'democrat' 'democrat' 'democrat'\n",
        " 'democrat' 'democrat' 'democrat' 'republican' 'democrat' 'democrat'\n",
        " 'republican' 'democrat' 'democrat' 'democrat' 'democrat' 'democrat'\n",
        " 'democrat' 'democrat' 'democrat' 'republican' 'republican' 'democrat'\n",
        " 'republican' 'democrat' 'democrat' 'democrat' 'democrat' 'republican'\n",
        " 'republican' 'republican' 'democrat' 'democrat' 'democrat' 'democrat'\n",
        " 'republican' 'republican' 'republican' 'democrat' 'democrat' 'democrat'\n",
        " 'republican' 'republican' 'republican' 'republican' 'democrat' 'democrat'\n",
        " 'republican' 'democrat' 'republican' 'democrat' 'democrat' 'democrat'\n",
        " 'democrat' 'democrat' 'republican' 'democrat' 'democrat' 'democrat'\n",
        " 'republican' 'republican' 'democrat' 'democrat' 'democrat' 'republican'\n",
        " 'republican' 'democrat' 'democrat' 'democrat' 'democrat' 'republican'\n",
        " 'democrat' 'republican' 'republican' 'republican' 'democrat' 'democrat'\n",
        " 'democrat' 'democrat' 'republican' 'democrat' 'democrat' 'democrat'\n",
        " 'democrat' 'democrat' 'republican' 'democrat' 'republican' 'democrat'\n",
        " 'democrat' 'democrat' 'democrat' 'democrat' 'democrat' 'democrat'\n",
        " 'republican' 'democrat' 'democrat' 'democrat' 'democrat' 'democrat'\n",
        " 'republican' 'democrat' 'democrat' 'republican' 'democrat' 'democrat'\n",
        " 'democrat' 'democrat' 'republican' 'democrat' 'republican' 'republican'\n",
        " 'republican' 'republican' 'republican' 'democrat' 'democrat' 'democrat'\n",
        " 'democrat' 'republican' 'republican' 'democrat' 'republican' 'democrat'\n",
        " 'democrat' 'republican' 'democrat' 'democrat' 'democrat' 'democrat'\n",
        " 'republican' 'democrat' 'democrat' 'democrat' 'republican' 'democrat'\n",
        " 'democrat' 'republican' 'democrat' 'republican' 'democrat' 'democrat'\n",
        " 'democrat' 'democrat' 'republican' 'democrat' 'democrat' 'republican'\n",
        " 'republican' 'democrat' 'republican' 'democrat' 'democrat' 'democrat'\n",
        " 'democrat' 'democrat' 'republican' 'democrat' 'republican' 'democrat'\n",
        " 'republican' 'republican' 'republican' 'republican' 'democrat'\n",
        " 'republican' 'republican' 'republican' 'democrat' 'democrat' 'republican'\n",
        " 'democrat' 'republican' 'democrat' 'democrat' 'democrat' 'republican'\n",
        " 'republican' 'democrat' 'republican' 'republican' 'republican' 'democrat'\n",
        " 'democrat' 'republican' 'democrat' 'democrat' 'republican' 'democrat'\n",
        " 'democrat' 'democrat' 'democrat' 'democrat' 'democrat' 'democrat'\n",
        " 'democrat' 'democrat' 'democrat' 'democrat' 'democrat' 'republican'\n",
        " 'democrat' 'republican' 'democrat' 'republican' 'republican' 'democrat'\n",
        " 'democrat' 'republican' 'democrat' 'democrat' 'democrat' 'democrat'\n",
        " 'democrat' 'democrat' 'democrat' 'democrat' 'democrat' 'democrat'\n",
        " 'democrat' 'republican' 'democrat' 'democrat' 'democrat' 'republican'\n",
        " 'democrat' 'republican' 'republican' 'republican' 'democrat' 'republican'\n",
        " 'republican' 'republican' 'democrat' 'democrat' 'republican' 'democrat'\n",
        " 'democrat']\n",
        "y_test (87 labels) =  ['democrat' 'democrat' 'democrat' 'republican' 'democrat' 'democrat'\n",
        " 'democrat' 'republican' 'republican' 'republican' 'republican' 'democrat'\n",
        " 'democrat' 'democrat' 'republican' 'republican' 'republican' 'democrat'\n",
        " 'democrat' 'republican' 'democrat' 'democrat' 'republican' 'democrat'\n",
        " 'democrat' 'democrat' 'republican' 'democrat' 'republican' 'democrat'\n",
        " 'republican' 'democrat' 'democrat' 'democrat' 'republican' 'democrat'\n",
        " 'republican' 'democrat' 'democrat' 'democrat' 'republican' 'democrat'\n",
        " 'democrat' 'republican' 'republican' 'republican' 'democrat' 'democrat'\n",
        " 'republican' 'democrat' 'republican' 'democrat' 'democrat' 'democrat'\n",
        " 'republican' 'democrat' 'democrat' 'democrat' 'democrat' 'republican'\n",
        " 'democrat' 'democrat' 'republican' 'democrat' 'democrat' 'democrat'\n",
        " 'republican' 'democrat' 'republican' 'republican' 'republican' 'democrat'\n",
        " 'republican' 'republican' 'republican' 'republican' 'democrat'\n",
        " 'republican' 'democrat' 'democrat' 'republican' 'republican' 'democrat'\n",
        " 'democrat' 'democrat' 'democrat' 'democrat']\n"
       ]
      }
     ],
     "prompt_number": 106
    },
    {
     "cell_type": "heading",
     "level": 3,
     "metadata": {},
     "source": [
      "Challenge 3"
     ]
    },
    {
     "cell_type": "markdown",
     "metadata": {},
     "source": [
      "Using scikit.learn's KNN algorithm, train a model that predicts the party (republican/democrat)\n",
      "\n",
      "Try it with a lot of different k values (number of neighbors), from 1 to 20, and on the test set calculate the accuracy (number of correct predictions / number of all predictions) for each k\n",
      "\n",
      "Which k value gives the highest accuracy?"
     ]
    },
    {
     "cell_type": "code",
     "collapsed": false,
     "input": [
      "%matplotlib inline\n",
      "from sklearn.neighbors import KNeighborsClassifier\n",
      "from sklearn.metrics import accuracy_score\n",
      "from matplotlib import pyplot as plt\n",
      "\n",
      "kValues = [x+1 for x in range(20)]\n",
      "\n",
      "knnAccuracies = ['N/A']\n",
      "\n",
      "for k in kValues:\n",
      "    knn = KNeighborsClassifier(n_neighbors=k).fit(X_train, y_train)\n",
      "    distances, indices = knn.kneighbors(X_test)\n",
      "    predicted = [y_train[i][0] for i in indices]\n",
      "    knnAccuracies.append(accuracy_score(y_true=y_test, y_pred=predicted))\n",
      "\n",
      "print \"knnAccuracies\", knnAccuracies\n",
      "\n",
      "plt.plot(kValues,knnAccuracies[1:])\u001c",
      "\n",
      "plt.title(\"Classification accuracy with KNN Nearest Neighbors\\nfor varying K\")\n",
      "plt.xlabel(\"K\")\n",
      "plt.ylabel(\"Accuracy\")\n",
      "plt.show()"
     ],
     "language": "python",
     "metadata": {},
     "outputs": [
      {
       "output_type": "stream",
       "stream": "stdout",
       "text": [
        "knnAccuracies ['N/A', 0.90804597701149425, 0.89655172413793105, 0.90804597701149425, 0.90804597701149425, 0.90804597701149425, 0.90804597701149425, 0.91954022988505746, 0.90804597701149425, 0.91954022988505746, 0.91954022988505746, 0.90804597701149425, 0.90804597701149425, 0.89655172413793105, 0.90804597701149425, 0.91954022988505746, 0.91954022988505746, 0.90804597701149425, 0.90804597701149425, 0.89655172413793105, 0.91954022988505746]\n"
       ]
      },
      {
       "metadata": {},
       "output_type": "display_data",
       "png": "[encoded data removed]",
       "text": [
        "<matplotlib.figure.Figure at 0x110fac150>"
       ]
      }
     ],
     "prompt_number": 161
    },
    {
     "cell_type": "markdown",
     "metadata": {},
     "source": [
      "Accuracy goes up and down, as K gets bigger. The best K values for this given training and test set are 7, 9, 10, 14, 15 and 20"
     ]
    },
    {
     "cell_type": "heading",
     "level": 3,
     "metadata": {},
     "source": [
      "Challenge 4"
     ]
    },
    {
     "cell_type": "markdown",
     "metadata": {},
     "source": [
      "Make a similar model but with LogisticRegression instead, calculate test accuracy."
     ]
    },
    {
     "cell_type": "code",
     "collapsed": false,
     "input": [
      "from sklearn.linear_model import LogisticRegression\n",
      "from math import pow, log10\n",
      "\n",
      "cValues = [pow(10,(x-10)) for x in range(20)]\n",
      "print \"cValues = \", cValues \n",
      "\n",
      "# selects weights inversely proportional to class frequencies in the training set\n",
      "# See http://scikit-learn.org/stable/modules/generated/sklearn.linear_model.LogisticRegression.html\n",
      "#classWeight = 'auto'\n",
      "classWeight = None\n",
      "\n",
      "logresAccuracies = []\n",
      "for c in cValues:\n",
      "    logres = LogisticRegression(C=c,class_weight=classWeight).fit(X_train, y_train)\n",
      "    predicted = logres.predict(X_test)\n",
      "    logresAccuracies.append(accuracy_score(y_true=y_test, y_pred=predicted))\n",
      "\n",
      "print \"logresAccuracies = \", logresAccuracies\n",
      "\n",
      "plt.plot([log10(c) for c in cValues],logresAccuracies)\u001c",
      "\n",
      "plt.title(\"Classification accuracy with Logistic Regression\\nfor varying C values (influencing lambda)\")\n",
      "plt.xlabel(\"log10(C)\")\n",
      "plt.ylabel(\"Accuracy\")\n",
      "plt.show()"
     ],
     "language": "python",
     "metadata": {},
     "outputs": [
      {
       "output_type": "stream",
       "stream": "stdout",
       "text": [
        "cValues =  [1e-10, 1e-09, 1e-08, 1e-07, 1e-06, 1e-05, 0.0001, 0.001, 0.01, 0.1, 1.0, 10.0, 100.0, 1000.0, 10000.0, 100000.0, 1000000.0, 10000000.0, 100000000.0, 1000000000.0]\n",
        "logresAccuracies =  [0.86206896551724133, 0.86206896551724133, 0.86206896551724133, 0.86206896551724133, 0.86206896551724133, 0.86206896551724133, 0.87356321839080464, 0.87356321839080464, 0.87356321839080464, 0.94252873563218387, 0.97701149425287359, 0.95402298850574707, 0.95402298850574707, 0.94252873563218387, 0.94252873563218387, 0.94252873563218387, 0.94252873563218387, 0.94252873563218387, 0.94252873563218387, 0.94252873563218387]\n"
       ]
      },
      {
       "metadata": {},
       "output_type": "display_data",
       "png": "[encoded data removed]",
       "text": [
        "<matplotlib.figure.Figure at 0x11100c050>"
       ]
      }
     ],
     "prompt_number": 163
    },
    {
     "cell_type": "heading",
     "level": 3,
     "metadata": {},
     "source": [
      "Challenge 5"
     ]
    },
    {
     "cell_type": "markdown",
     "metadata": {},
     "source": [
      "Make a bar graph of democrats and republicans. How many of each are there?\n",
      "\n",
      "Make a very simple predictor that predicts 'democrat' for every incoming example. \n",
      "(Just make a function that takes in an X --an array or matrix with input examples--, and returns an array of the same length as X, where each value is 'democrat'. For example, if X is three rows, your function should return ['democrat','democrat','democrat']) Make a y_predicted vector using this and measure its accuracy.\n",
      "\n",
      "Do the same with predicting 'republican' all the time and measure its accuracy."
     ]
    },
    {
     "cell_type": "code",
     "collapsed": false,
     "input": [
      "democrats = [c for c in votesDF3['class-name'] if c == 'democrat']\n",
      "republicans = [c for c in votesDF3['class-name'] if c == 'republican']\n",
      "\n",
      "nrDemocrats = (len(democrats))\n",
      "nrRepublicans = (len(republicans))\n",
      "\n",
      "fig, ax = plt.subplots()\n",
      "\n",
      "ind = np.arange(1)\n",
      "width = 0.1       # the width of the bars: can also be len(x) sequence\n",
      "\n",
      "p1 = plt.bar(ind, nrDemocrats, color='b', label=\"Democrats\")\n",
      "p2 = plt.bar(ind, nrRepublicans, color='r', label=\"Republicans\")\n",
      "\n",
      "plt.ylabel('# training examples with label')\n",
      "plt.title('Training examples per class')\n",
      "plt.legend()\n",
      "\n",
      "plt.xticks(ind + width)\n",
      "\n",
      "plt.show()"
     ],
     "language": "python",
     "metadata": {},
     "outputs": [
      {
       "metadata": {},
       "output_type": "display_data",
       "png": "[encoded data removed]",
       "text": [
        "<matplotlib.figure.Figure at 0x114f85610>"
       ]
      }
     ],
     "prompt_number": 209
    },
    {
     "cell_type": "code",
     "collapsed": false,
     "input": [
      "def constantPredictor(inputClass, prediction):\n",
      "    return [prediction for x in inputClass]\n",
      "\n",
      "baselineAccuracies = []\n",
      "predicted = constantPredictor(X_test,'democrat')\n",
      "baselineAccuracies.append(accuracy_score(y_true=y_test, y_pred=predicted))\n",
      "predicted = constantPredictor(X_test,'republican')\n",
      "baselineAccuracies.append(accuracy_score(y_true=y_test, y_pred=predicted))\n",
      "\n",
      "plt.plot([0,1],baselineAccuracies)\u001c",
      "\n",
      "plt.title(\"Baseline classification accuracies with constant predictor\")\n",
      "plt.xlabel(\"Constant Class\")\n",
      "plt.ylabel(\"Accuracy\")\n",
      "plt.show()"
     ],
     "language": "python",
     "metadata": {},
     "outputs": [
      {
       "metadata": {},
       "output_type": "display_data",
       "png": "[encoded data removed]",
       "text": [
        "<matplotlib.figure.Figure at 0x11533fcd0>"
       ]
      }
     ],
     "prompt_number": 215
    },
    {
     "cell_type": "heading",
     "level": 3,
     "metadata": {},
     "source": [
      "Challenge 6"
     ]
    },
    {
     "cell_type": "markdown",
     "metadata": {},
     "source": [
      "Plot the accuracies as a function of k. Since k only matters for KNN, your logistic regression accuracy, 'democrat' predictor accuracy and 'republican' predictor accuracy will stay the same over all k, so each of these three will be a horizontal line. But the KNN accuracy will change with k."
     ]
    },
    {
     "cell_type": "code",
     "collapsed": false,
     "input": [
      "plt.plot(kValues,knnAccuracies[1:],color='blue',label='KNN')\n",
      "plt.plot(kValues,[baselineAccuracies[0] for k in kValues],color='red',label='constant Democrat')\n",
      "plt.plot(kValues,[baselineAccuracies[1] for k in kValues],color='magenta',label='constant Republican')\n",
      "plt.plot(kValues,[logresAccuracies[10] for k in kValues],color='green',label='logistic regression w/ best C value')\n",
      "plt.title(\"Classification accuracy with KNN Nearest Neighbors\\nfor varying K\")\n",
      "plt.xlabel(\"K\")\n",
      "plt.ylabel(\"Accuracy\")\n",
      "plt.legend(loc=3)\n",
      "plt.show()"
     ],
     "language": "python",
     "metadata": {},
     "outputs": [
      {
       "metadata": {},
       "output_type": "display_data",
       "png": "[encoded data removed]",
       "text": [
        "<matplotlib.figure.Figure at 0x114ba37d0>"
       ]
      }
     ],
     "prompt_number": 228
    }
   ],
   "metadata": {}
  }
 ]
}